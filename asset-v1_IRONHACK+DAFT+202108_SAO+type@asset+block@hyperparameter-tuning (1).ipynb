{
 "cells": [
  {
   "cell_type": "markdown",
   "metadata": {},
   "source": [
    "# HyperParameter Tuning"
   ]
  },
  {
   "cell_type": "code",
   "execution_count": 41,
   "metadata": {
    "ExecuteTime": {
     "end_time": "2021-10-01T11:35:04.833363Z",
     "start_time": "2021-10-01T11:35:04.815411Z"
    }
   },
   "outputs": [],
   "source": [
    "import matplotlib.pyplot as plt\n",
    "import seaborn as sns\n",
    "import numpy as np\n",
    "import pandas as pd"
   ]
  },
  {
   "cell_type": "code",
   "execution_count": 42,
   "metadata": {
    "ExecuteTime": {
     "end_time": "2021-10-01T11:35:05.315557Z",
     "start_time": "2021-10-01T11:35:05.178011Z"
    }
   },
   "outputs": [],
   "source": [
    "from yellowbrick.datasets import load_credit\n",
    "\n",
    "X = load_credit()[0]\n",
    "y = load_credit()[1]"
   ]
  },
  {
   "cell_type": "code",
   "execution_count": 43,
   "metadata": {
    "ExecuteTime": {
     "end_time": "2021-10-01T11:35:05.455726Z",
     "start_time": "2021-10-01T11:35:05.434783Z"
    },
    "scrolled": true
   },
   "outputs": [
    {
     "data": {
      "text/html": [
       "<div>\n",
       "<style scoped>\n",
       "    .dataframe tbody tr th:only-of-type {\n",
       "        vertical-align: middle;\n",
       "    }\n",
       "\n",
       "    .dataframe tbody tr th {\n",
       "        vertical-align: top;\n",
       "    }\n",
       "\n",
       "    .dataframe thead th {\n",
       "        text-align: right;\n",
       "    }\n",
       "</style>\n",
       "<table border=\"1\" class=\"dataframe\">\n",
       "  <thead>\n",
       "    <tr style=\"text-align: right;\">\n",
       "      <th></th>\n",
       "      <th>limit</th>\n",
       "      <th>sex</th>\n",
       "      <th>edu</th>\n",
       "      <th>married</th>\n",
       "      <th>age</th>\n",
       "      <th>apr_delay</th>\n",
       "      <th>may_delay</th>\n",
       "      <th>jun_delay</th>\n",
       "      <th>jul_delay</th>\n",
       "      <th>aug_delay</th>\n",
       "      <th>...</th>\n",
       "      <th>jun_bill</th>\n",
       "      <th>jul_bill</th>\n",
       "      <th>aug_bill</th>\n",
       "      <th>sep_bill</th>\n",
       "      <th>apr_pay</th>\n",
       "      <th>may_pay</th>\n",
       "      <th>jun_pay</th>\n",
       "      <th>jul_pay</th>\n",
       "      <th>aug_pay</th>\n",
       "      <th>sep_pay</th>\n",
       "    </tr>\n",
       "  </thead>\n",
       "  <tbody>\n",
       "    <tr>\n",
       "      <th>0</th>\n",
       "      <td>20000</td>\n",
       "      <td>2</td>\n",
       "      <td>2</td>\n",
       "      <td>1</td>\n",
       "      <td>24</td>\n",
       "      <td>2</td>\n",
       "      <td>2</td>\n",
       "      <td>-1</td>\n",
       "      <td>-1</td>\n",
       "      <td>-2</td>\n",
       "      <td>...</td>\n",
       "      <td>689</td>\n",
       "      <td>0</td>\n",
       "      <td>0</td>\n",
       "      <td>0</td>\n",
       "      <td>0</td>\n",
       "      <td>689</td>\n",
       "      <td>0</td>\n",
       "      <td>0</td>\n",
       "      <td>0</td>\n",
       "      <td>0</td>\n",
       "    </tr>\n",
       "    <tr>\n",
       "      <th>1</th>\n",
       "      <td>120000</td>\n",
       "      <td>2</td>\n",
       "      <td>2</td>\n",
       "      <td>2</td>\n",
       "      <td>26</td>\n",
       "      <td>-1</td>\n",
       "      <td>2</td>\n",
       "      <td>0</td>\n",
       "      <td>0</td>\n",
       "      <td>0</td>\n",
       "      <td>...</td>\n",
       "      <td>2682</td>\n",
       "      <td>3272</td>\n",
       "      <td>3455</td>\n",
       "      <td>3261</td>\n",
       "      <td>0</td>\n",
       "      <td>1000</td>\n",
       "      <td>1000</td>\n",
       "      <td>1000</td>\n",
       "      <td>0</td>\n",
       "      <td>2000</td>\n",
       "    </tr>\n",
       "    <tr>\n",
       "      <th>2</th>\n",
       "      <td>90000</td>\n",
       "      <td>2</td>\n",
       "      <td>2</td>\n",
       "      <td>2</td>\n",
       "      <td>34</td>\n",
       "      <td>0</td>\n",
       "      <td>0</td>\n",
       "      <td>0</td>\n",
       "      <td>0</td>\n",
       "      <td>0</td>\n",
       "      <td>...</td>\n",
       "      <td>13559</td>\n",
       "      <td>14331</td>\n",
       "      <td>14948</td>\n",
       "      <td>15549</td>\n",
       "      <td>1518</td>\n",
       "      <td>1500</td>\n",
       "      <td>1000</td>\n",
       "      <td>1000</td>\n",
       "      <td>1000</td>\n",
       "      <td>5000</td>\n",
       "    </tr>\n",
       "    <tr>\n",
       "      <th>3</th>\n",
       "      <td>50000</td>\n",
       "      <td>2</td>\n",
       "      <td>2</td>\n",
       "      <td>1</td>\n",
       "      <td>37</td>\n",
       "      <td>0</td>\n",
       "      <td>0</td>\n",
       "      <td>0</td>\n",
       "      <td>0</td>\n",
       "      <td>0</td>\n",
       "      <td>...</td>\n",
       "      <td>49291</td>\n",
       "      <td>28314</td>\n",
       "      <td>28959</td>\n",
       "      <td>29547</td>\n",
       "      <td>2000</td>\n",
       "      <td>2019</td>\n",
       "      <td>1200</td>\n",
       "      <td>1100</td>\n",
       "      <td>1069</td>\n",
       "      <td>1000</td>\n",
       "    </tr>\n",
       "    <tr>\n",
       "      <th>4</th>\n",
       "      <td>50000</td>\n",
       "      <td>1</td>\n",
       "      <td>2</td>\n",
       "      <td>1</td>\n",
       "      <td>57</td>\n",
       "      <td>-1</td>\n",
       "      <td>0</td>\n",
       "      <td>-1</td>\n",
       "      <td>0</td>\n",
       "      <td>0</td>\n",
       "      <td>...</td>\n",
       "      <td>35835</td>\n",
       "      <td>20940</td>\n",
       "      <td>19146</td>\n",
       "      <td>19131</td>\n",
       "      <td>2000</td>\n",
       "      <td>36681</td>\n",
       "      <td>10000</td>\n",
       "      <td>9000</td>\n",
       "      <td>689</td>\n",
       "      <td>679</td>\n",
       "    </tr>\n",
       "  </tbody>\n",
       "</table>\n",
       "<p>5 rows × 23 columns</p>\n",
       "</div>"
      ],
      "text/plain": [
       "    limit  sex  edu  married  age  apr_delay  may_delay  jun_delay  jul_delay  \\\n",
       "0   20000    2    2        1   24          2          2         -1         -1   \n",
       "1  120000    2    2        2   26         -1          2          0          0   \n",
       "2   90000    2    2        2   34          0          0          0          0   \n",
       "3   50000    2    2        1   37          0          0          0          0   \n",
       "4   50000    1    2        1   57         -1          0         -1          0   \n",
       "\n",
       "   aug_delay  ...  jun_bill  jul_bill  aug_bill  sep_bill  apr_pay  may_pay  \\\n",
       "0         -2  ...       689         0         0         0        0      689   \n",
       "1          0  ...      2682      3272      3455      3261        0     1000   \n",
       "2          0  ...     13559     14331     14948     15549     1518     1500   \n",
       "3          0  ...     49291     28314     28959     29547     2000     2019   \n",
       "4          0  ...     35835     20940     19146     19131     2000    36681   \n",
       "\n",
       "   jun_pay  jul_pay  aug_pay  sep_pay  \n",
       "0        0        0        0        0  \n",
       "1     1000     1000        0     2000  \n",
       "2     1000     1000     1000     5000  \n",
       "3     1200     1100     1069     1000  \n",
       "4    10000     9000      689      679  \n",
       "\n",
       "[5 rows x 23 columns]"
      ]
     },
     "execution_count": 43,
     "metadata": {},
     "output_type": "execute_result"
    }
   ],
   "source": [
    "X.head()"
   ]
  },
  {
   "cell_type": "code",
   "execution_count": 44,
   "metadata": {
    "ExecuteTime": {
     "end_time": "2021-10-01T11:35:05.657615Z",
     "start_time": "2021-10-01T11:35:05.649637Z"
    }
   },
   "outputs": [],
   "source": [
    "from sklearn.model_selection import train_test_split"
   ]
  },
  {
   "cell_type": "code",
   "execution_count": 45,
   "metadata": {
    "ExecuteTime": {
     "end_time": "2021-10-01T11:35:05.906436Z",
     "start_time": "2021-10-01T11:35:05.881503Z"
    }
   },
   "outputs": [],
   "source": [
    "X_train, X_test, y_train, y_test = train_test_split(X, y, stratify=y)"
   ]
  },
  {
   "cell_type": "code",
   "execution_count": 46,
   "metadata": {
    "ExecuteTime": {
     "end_time": "2021-10-01T11:35:06.106129Z",
     "start_time": "2021-10-01T11:35:06.098151Z"
    }
   },
   "outputs": [],
   "source": [
    "from sklearn.linear_model import LogisticRegression\n",
    "\n",
    "model = LogisticRegression(max_iter=3000)"
   ]
  },
  {
   "cell_type": "code",
   "execution_count": 47,
   "metadata": {
    "ExecuteTime": {
     "end_time": "2021-10-01T11:35:06.401636Z",
     "start_time": "2021-10-01T11:35:06.377696Z"
    }
   },
   "outputs": [],
   "source": [
    "from sklearn.preprocessing import StandardScaler\n",
    "\n",
    "scaler = StandardScaler()\n",
    "\n",
    "X_train = scaler.fit_transform(X_train)\n",
    "\n",
    "X_test = scaler.transform(X_test)"
   ]
  },
  {
   "cell_type": "code",
   "execution_count": 48,
   "metadata": {
    "ExecuteTime": {
     "end_time": "2021-10-01T11:35:06.665328Z",
     "start_time": "2021-10-01T11:35:06.651367Z"
    }
   },
   "outputs": [],
   "source": [
    "from sklearn.model_selection import cross_val_score, KFold"
   ]
  },
  {
   "cell_type": "code",
   "execution_count": 49,
   "metadata": {
    "ExecuteTime": {
     "end_time": "2021-10-01T11:35:07.131933Z",
     "start_time": "2021-10-01T11:35:06.881780Z"
    }
   },
   "outputs": [
    {
     "data": {
      "text/plain": [
       "array([0.72196733, 0.72887576, 0.7162546 , 0.73322686, 0.70694135])"
      ]
     },
     "execution_count": 49,
     "metadata": {},
     "output_type": "execute_result"
    }
   ],
   "source": [
    "cross_val_score(model, X_train , y_train, scoring='roc_auc')"
   ]
  },
  {
   "cell_type": "code",
   "execution_count": 50,
   "metadata": {
    "ExecuteTime": {
     "end_time": "2021-10-01T11:35:07.256834Z",
     "start_time": "2021-10-01T11:35:07.195774Z"
    }
   },
   "outputs": [
    {
     "data": {
      "text/plain": [
       "LogisticRegression(max_iter=3000)"
      ]
     },
     "execution_count": 50,
     "metadata": {},
     "output_type": "execute_result"
    }
   ],
   "source": [
    "model.fit(X_train, y_train)"
   ]
  },
  {
   "cell_type": "code",
   "execution_count": 51,
   "metadata": {
    "ExecuteTime": {
     "end_time": "2021-10-01T11:35:07.365113Z",
     "start_time": "2021-10-01T11:35:07.349165Z"
    }
   },
   "outputs": [
    {
     "data": {
      "text/plain": [
       "0.7293889333151294"
      ]
     },
     "execution_count": 51,
     "metadata": {},
     "output_type": "execute_result"
    }
   ],
   "source": [
    "from sklearn.metrics import roc_auc_score\n",
    "roc_auc_score(y_test, model.predict_proba(X_test)[:, 1])"
   ]
  },
  {
   "cell_type": "markdown",
   "metadata": {},
   "source": [
    "# Grid Search:"
   ]
  },
  {
   "cell_type": "markdown",
   "metadata": {},
   "source": [
    "![grid_vs_random.png](grid_vs_random.png)"
   ]
  },
  {
   "cell_type": "markdown",
   "metadata": {},
   "source": [
    "Grid search just keeps testing all combinations in your `search space` until you obtain the best possible result."
   ]
  },
  {
   "cell_type": "code",
   "execution_count": 12,
   "metadata": {
    "ExecuteTime": {
     "end_time": "2021-09-30T21:28:40.196418Z",
     "start_time": "2021-09-30T21:28:37.788982Z"
    },
    "scrolled": true
   },
   "outputs": [],
   "source": [
    "for parameter in [0.1,0.2,0.5, 0.6, 0.8, 0.9, 1, 2, 4, 6]:\n",
    "    \n",
    "    #print(parameter) \n",
    "    model = LogisticRegression(C=parameter)\n",
    "    \n",
    "    cross_val_score(model, \n",
    "                    X_train, \n",
    "                    y_train, \n",
    "                    cv=KFold(5), \n",
    "                    scoring='roc_auc').mean()\n",
    "    \n",
    "    "
   ]
  },
  {
   "cell_type": "markdown",
   "metadata": {},
   "source": [
    "You don't need to loop though, you can use a package for it."
   ]
  },
  {
   "cell_type": "code",
   "execution_count": 13,
   "metadata": {
    "ExecuteTime": {
     "end_time": "2021-09-30T21:28:40.243294Z",
     "start_time": "2021-09-30T21:28:40.230328Z"
    }
   },
   "outputs": [],
   "source": [
    "from sklearn.model_selection import GridSearchCV"
   ]
  },
  {
   "cell_type": "code",
   "execution_count": 14,
   "metadata": {
    "ExecuteTime": {
     "end_time": "2021-09-30T21:28:40.305163Z",
     "start_time": "2021-09-30T21:28:40.290204Z"
    }
   },
   "outputs": [
    {
     "data": {
      "text/plain": [
       "LogisticRegression(C=6)"
      ]
     },
     "execution_count": 14,
     "metadata": {},
     "output_type": "execute_result"
    }
   ],
   "source": [
    "model"
   ]
  },
  {
   "cell_type": "code",
   "execution_count": 15,
   "metadata": {
    "ExecuteTime": {
     "end_time": "2021-09-30T21:28:40.366432Z",
     "start_time": "2021-09-30T21:28:40.352926Z"
    },
    "scrolled": true
   },
   "outputs": [],
   "source": [
    "search_space = [{\n",
    "    'C': [0.1,0.2,0.5, 0.6, 0.8, 0.9, 1, 2, 4, 6]\n",
    "}]\n",
    "\n",
    "grid_search = GridSearchCV(model, \n",
    "                           search_space, \n",
    "                           cv=KFold(3), \n",
    "                           scoring='roc_auc', \n",
    "                           n_jobs=-1, \n",
    "                           verbose=True)"
   ]
  },
  {
   "cell_type": "code",
   "execution_count": 16,
   "metadata": {
    "ExecuteTime": {
     "end_time": "2021-09-30T21:28:43.240561Z",
     "start_time": "2021-09-30T21:28:40.429945Z"
    }
   },
   "outputs": [
    {
     "name": "stdout",
     "output_type": "stream",
     "text": [
      "Fitting 3 folds for each of 10 candidates, totalling 30 fits\n"
     ]
    },
    {
     "data": {
      "text/plain": [
       "GridSearchCV(cv=KFold(n_splits=3, random_state=None, shuffle=False),\n",
       "             estimator=LogisticRegression(C=6), n_jobs=-1,\n",
       "             param_grid=[{'C': [0.1, 0.2, 0.5, 0.6, 0.8, 0.9, 1, 2, 4, 6]}],\n",
       "             scoring='roc_auc', verbose=True)"
      ]
     },
     "execution_count": 16,
     "metadata": {},
     "output_type": "execute_result"
    }
   ],
   "source": [
    "grid_search.fit(X_train, y_train)"
   ]
  },
  {
   "cell_type": "code",
   "execution_count": 17,
   "metadata": {
    "ExecuteTime": {
     "end_time": "2021-09-30T21:28:43.303837Z",
     "start_time": "2021-09-30T21:28:43.289122Z"
    }
   },
   "outputs": [
    {
     "data": {
      "text/plain": [
       "LogisticRegression(C=6)"
      ]
     },
     "execution_count": 17,
     "metadata": {},
     "output_type": "execute_result"
    }
   ],
   "source": [
    "grid_search.best_estimator_"
   ]
  },
  {
   "cell_type": "code",
   "execution_count": 18,
   "metadata": {
    "ExecuteTime": {
     "end_time": "2021-09-30T21:28:43.379959Z",
     "start_time": "2021-09-30T21:28:43.365549Z"
    }
   },
   "outputs": [
    {
     "data": {
      "text/plain": [
       "{'C': 6}"
      ]
     },
     "execution_count": 18,
     "metadata": {},
     "output_type": "execute_result"
    }
   ],
   "source": [
    "grid_search.best_params_"
   ]
  },
  {
   "cell_type": "code",
   "execution_count": 19,
   "metadata": {
    "ExecuteTime": {
     "end_time": "2021-09-30T21:28:43.426834Z",
     "start_time": "2021-09-30T21:28:43.412871Z"
    }
   },
   "outputs": [
    {
     "data": {
      "text/plain": [
       "0.7239894768149168"
      ]
     },
     "execution_count": 19,
     "metadata": {},
     "output_type": "execute_result"
    }
   ],
   "source": [
    "grid_search.best_score_"
   ]
  },
  {
   "cell_type": "markdown",
   "metadata": {},
   "source": [
    "## We could search more features in our search space"
   ]
  },
  {
   "cell_type": "code",
   "execution_count": 20,
   "metadata": {
    "ExecuteTime": {
     "end_time": "2021-09-30T21:28:45.312815Z",
     "start_time": "2021-09-30T21:28:45.299849Z"
    }
   },
   "outputs": [
    {
     "data": {
      "text/plain": [
       "LogisticRegression()"
      ]
     },
     "execution_count": 20,
     "metadata": {},
     "output_type": "execute_result"
    }
   ],
   "source": [
    "LogisticRegression()"
   ]
  },
  {
   "cell_type": "code",
   "execution_count": 21,
   "metadata": {
    "ExecuteTime": {
     "end_time": "2021-09-30T21:28:45.621251Z",
     "start_time": "2021-09-30T21:28:45.612282Z"
    }
   },
   "outputs": [],
   "source": [
    "model = LogisticRegression(solver='saga')"
   ]
  },
  {
   "cell_type": "code",
   "execution_count": 22,
   "metadata": {
    "ExecuteTime": {
     "end_time": "2021-09-30T21:28:52.909480Z",
     "start_time": "2021-09-30T21:28:45.916341Z"
    },
    "scrolled": true
   },
   "outputs": [
    {
     "name": "stdout",
     "output_type": "stream",
     "text": [
      "Fitting 3 folds for each of 20 candidates, totalling 60 fits\n"
     ]
    },
    {
     "name": "stderr",
     "output_type": "stream",
     "text": [
      "C:\\Users\\raian\\miniconda3\\lib\\site-packages\\sklearn\\linear_model\\_sag.py:328: ConvergenceWarning: The max_iter was reached which means the coef_ did not converge\n",
      "  warnings.warn(\"The max_iter was reached which means \"\n"
     ]
    },
    {
     "data": {
      "text/plain": [
       "GridSearchCV(cv=KFold(n_splits=3, random_state=None, shuffle=False),\n",
       "             estimator=LogisticRegression(solver='saga'), n_jobs=-1,\n",
       "             param_grid=[{'C': [0.1, 0.2, 0.5, 0.6, 0.8, 0.9, 1, 2, 4, 6],\n",
       "                          'penalty': ['l1', 'l2']}],\n",
       "             scoring='precision', verbose=True)"
      ]
     },
     "execution_count": 22,
     "metadata": {},
     "output_type": "execute_result"
    }
   ],
   "source": [
    "search_space = [{\n",
    "    'penalty':['l1','l2'],\n",
    "    'C': [0.1,0.2,0.5, 0.6, 0.8, 0.9, 1, 2, 4, 6]\n",
    "}]\n",
    "\n",
    "grid_search = GridSearchCV(model, \n",
    "                           search_space, \n",
    "                           cv=KFold(3), \n",
    "                           scoring='precision', \n",
    "                           n_jobs=-1, \n",
    "                           verbose=True,\n",
    "                           refit=True)\n",
    "\n",
    "grid_search.fit(X_train, y_train)"
   ]
  },
  {
   "cell_type": "code",
   "execution_count": 23,
   "metadata": {
    "ExecuteTime": {
     "end_time": "2021-09-30T21:28:52.955886Z",
     "start_time": "2021-09-30T21:28:52.942896Z"
    }
   },
   "outputs": [
    {
     "data": {
      "text/plain": [
       "{'C': 4, 'penalty': 'l2'}"
      ]
     },
     "execution_count": 23,
     "metadata": {},
     "output_type": "execute_result"
    }
   ],
   "source": [
    "grid_search.best_params_"
   ]
  },
  {
   "cell_type": "code",
   "execution_count": 24,
   "metadata": {
    "ExecuteTime": {
     "end_time": "2021-09-30T21:28:53.032336Z",
     "start_time": "2021-09-30T21:28:53.018373Z"
    }
   },
   "outputs": [
    {
     "data": {
      "text/plain": [
       "0.7170991870072089"
      ]
     },
     "execution_count": 24,
     "metadata": {},
     "output_type": "execute_result"
    }
   ],
   "source": [
    "grid_search.best_score_"
   ]
  },
  {
   "cell_type": "code",
   "execution_count": 25,
   "metadata": {
    "ExecuteTime": {
     "end_time": "2021-09-30T21:28:53.108842Z",
     "start_time": "2021-09-30T21:28:53.095672Z"
    }
   },
   "outputs": [
    {
     "data": {
      "text/plain": [
       "array([0.06867296, 0.04457536, 0.18359445, ..., 0.13424151, 0.03621693,\n",
       "       0.24621067])"
      ]
     },
     "execution_count": 25,
     "metadata": {},
     "output_type": "execute_result"
    }
   ],
   "source": [
    "grid_search.predict_proba(X_test)[:,1]\n",
    "#best_estimator_.predict_proba(X_test)[:, 1]"
   ]
  },
  {
   "cell_type": "markdown",
   "metadata": {},
   "source": [
    "## Conclusion:\n",
    "\n",
    "Grid search can be really time consuming."
   ]
  },
  {
   "cell_type": "code",
   "execution_count": 121,
   "metadata": {
    "ExecuteTime": {
     "end_time": "2020-05-07T19:48:48.298323Z",
     "start_time": "2020-05-07T19:48:48.295331Z"
    }
   },
   "outputs": [],
   "source": [
    "#from multiprocessing import Pool\n",
    "#pool = Pool()\n",
    "#pool.map_async()"
   ]
  },
  {
   "cell_type": "markdown",
   "metadata": {},
   "source": [
    "- Hyperopt: https://towardsdatascience.com/an-introductory-example-of-bayesian-optimization-in-python-with-hyperopt-aae40fff4ff0"
   ]
  },
  {
   "cell_type": "markdown",
   "metadata": {},
   "source": [
    "# Randomized Search"
   ]
  },
  {
   "cell_type": "markdown",
   "metadata": {},
   "source": [
    "Instead of taking **all** combinations, what iff we give the algorithm some direction?"
   ]
  },
  {
   "cell_type": "code",
   "execution_count": 52,
   "metadata": {
    "ExecuteTime": {
     "end_time": "2021-10-01T11:35:32.254380Z",
     "start_time": "2021-10-01T11:35:32.249393Z"
    }
   },
   "outputs": [],
   "source": [
    "from scipy.stats import uniform, gamma, beta, randint\n",
    "from sklearn.model_selection import RandomizedSearchCV"
   ]
  },
  {
   "cell_type": "code",
   "execution_count": 53,
   "metadata": {
    "ExecuteTime": {
     "end_time": "2021-10-01T11:35:32.692723Z",
     "start_time": "2021-10-01T11:35:32.547873Z"
    }
   },
   "outputs": [
    {
     "name": "stderr",
     "output_type": "stream",
     "text": [
      "C:\\Users\\raian\\miniconda3\\lib\\site-packages\\seaborn\\distributions.py:2619: FutureWarning: `distplot` is a deprecated function and will be removed in a future version. Please adapt your code to use either `displot` (a figure-level function with similar flexibility) or `histplot` (an axes-level function for histograms).\n",
      "  warnings.warn(msg, FutureWarning)\n"
     ]
    },
    {
     "data": {
      "text/plain": [
       "<AxesSubplot:ylabel='Density'>"
      ]
     },
     "execution_count": 53,
     "metadata": {},
     "output_type": "execute_result"
    },
    {
     "data": {
      "image/png": "[encoded data removed]",
      "text/plain": [
       "<Figure size 576x396 with 1 Axes>"
      ]
     },
     "metadata": {},
     "output_type": "display_data"
    }
   ],
   "source": [
    "sns.distplot(beta(2, 1, loc=0, scale=1).rvs(size=1000))"
   ]
  },
  {
   "cell_type": "code",
   "execution_count": 54,
   "metadata": {
    "ExecuteTime": {
     "end_time": "2021-10-01T11:35:32.914040Z",
     "start_time": "2021-10-01T11:35:32.755599Z"
    }
   },
   "outputs": [
    {
     "name": "stderr",
     "output_type": "stream",
     "text": [
      "C:\\Users\\raian\\miniconda3\\lib\\site-packages\\seaborn\\distributions.py:2619: FutureWarning: `distplot` is a deprecated function and will be removed in a future version. Please adapt your code to use either `displot` (a figure-level function with similar flexibility) or `histplot` (an axes-level function for histograms).\n",
      "  warnings.warn(msg, FutureWarning)\n"
     ]
    },
    {
     "data": {
      "text/plain": [
       "<AxesSubplot:ylabel='Density'>"
      ]
     },
     "execution_count": 54,
     "metadata": {},
     "output_type": "execute_result"
    },
    {
     "data": {
      "image/png": "[encoded data removed]",
      "text/plain": [
       "<Figure size 576x396 with 1 Axes>"
      ]
     },
     "metadata": {},
     "output_type": "display_data"
    }
   ],
   "source": [
    "# uniform distrtibution\n",
    "sns.distplot(randint(2,16).rvs(size=10000))"
   ]
  },
  {
   "cell_type": "code",
   "execution_count": 55,
   "metadata": {
    "ExecuteTime": {
     "end_time": "2021-10-01T11:35:33.133618Z",
     "start_time": "2021-10-01T11:35:32.985897Z"
    }
   },
   "outputs": [
    {
     "name": "stderr",
     "output_type": "stream",
     "text": [
      "C:\\Users\\raian\\miniconda3\\lib\\site-packages\\seaborn\\distributions.py:2619: FutureWarning: `distplot` is a deprecated function and will be removed in a future version. Please adapt your code to use either `displot` (a figure-level function with similar flexibility) or `histplot` (an axes-level function for histograms).\n",
      "  warnings.warn(msg, FutureWarning)\n"
     ]
    },
    {
     "data": {
      "text/plain": [
       "<AxesSubplot:ylabel='Density'>"
      ]
     },
     "execution_count": 55,
     "metadata": {},
     "output_type": "execute_result"
    },
    {
     "data": {
      "image/png": "[encoded data removed]",
      "text/plain": [
       "<Figure size 576x396 with 1 Axes>"
      ]
     },
     "metadata": {},
     "output_type": "display_data"
    }
   ],
   "source": [
    "# gamma distribution\n",
    "sns.distplot(gamma(1, loc=0, scale=0.1).rvs(size=1000))"
   ]
  },
  {
   "cell_type": "code",
   "execution_count": 56,
   "metadata": {
    "ExecuteTime": {
     "end_time": "2021-10-01T11:35:33.633540Z",
     "start_time": "2021-10-01T11:35:33.489924Z"
    }
   },
   "outputs": [
    {
     "name": "stderr",
     "output_type": "stream",
     "text": [
      "C:\\Users\\raian\\miniconda3\\lib\\site-packages\\seaborn\\distributions.py:2619: FutureWarning: `distplot` is a deprecated function and will be removed in a future version. Please adapt your code to use either `displot` (a figure-level function with similar flexibility) or `histplot` (an axes-level function for histograms).\n",
      "  warnings.warn(msg, FutureWarning)\n"
     ]
    },
    {
     "data": {
      "text/plain": [
       "<AxesSubplot:ylabel='Density'>"
      ]
     },
     "execution_count": 56,
     "metadata": {},
     "output_type": "execute_result"
    },
    {
     "data": {
      "image/png": "[encoded data removed]",
      "text/plain": [
       "<Figure size 576x396 with 1 Axes>"
      ]
     },
     "metadata": {},
     "output_type": "display_data"
    }
   ],
   "source": [
    "# beta distribution\n",
    "sns.distplot(beta(2, 1, loc=0, scale=1).rvs(size=1000))"
   ]
  },
  {
   "cell_type": "code",
   "execution_count": 57,
   "metadata": {
    "ExecuteTime": {
     "end_time": "2021-10-01T11:36:07.863117Z",
     "start_time": "2021-10-01T11:35:33.793263Z"
    }
   },
   "outputs": [
    {
     "name": "stdout",
     "output_type": "stream",
     "text": [
      "Fitting 3 folds for each of 1000 candidates, totalling 3000 fits\n"
     ]
    },
    {
     "name": "stderr",
     "output_type": "stream",
     "text": [
      "C:\\Users\\raian\\miniconda3\\lib\\site-packages\\sklearn\\model_selection\\_search.py:918: UserWarning: One or more of the test scores are non-finite: [0.72386692 0.70852105        nan 0.         0.68351517 0.\n",
      " 0.         0.70541987        nan 0.70355528 0.7207079  0.73260293\n",
      " 0.72018396 0.70707608 0.68157214        nan 0.70316096 0.66839188\n",
      " 0.         0.71502498 0.         0.70497475 0.6661972  0.67442168\n",
      " 0.66134051 0.7073339  0.6938652  0.         0.66854934 0.6944055\n",
      " 0.68557059        nan 0.68009843 0.71623956 0.69249626 0.70239664\n",
      " 0.68723209 0.71802253        nan 0.         0.67778611        nan\n",
      " 0.68566565 0.         0.         0.         0.                nan\n",
      "        nan 0.70806144 0.         0.67992512 0.68178359 0.72510094\n",
      "        nan 0.         0.67919248 0.63581616        nan 0.67304995\n",
      " 0.68460796 0.68659369 0.71356955 0.         0.         0.\n",
      "        nan 0.         0.70929781        nan 0.72646704 0.\n",
      " 0.         0.69167302 0.74117657        nan 0.72140811 0.70816869\n",
      " 0.70010853        nan 0.66124295 0.67162479 0.72952131        nan\n",
      " 0.                nan 0.67821589        nan 0.25064599 0.70820299\n",
      " 0.         0.66397053        nan 0.         0.71536412 0.7218286\n",
      " 0.70542218        nan 0.68280281 0.69568688 0.67692093 0.\n",
      "        nan        nan 0.67451875 0.         0.         0.72404343\n",
      " 0.75377329 0.71187644 0.70564153 0.         0.6773785  0.66713651\n",
      " 0.69329832        nan 0.70480483        nan        nan 0.72111665\n",
      " 0.6777969         nan 0.68281582        nan 0.         0.68148328\n",
      " 0.7209965  0.67677217 0.                nan 0.73403486 0.\n",
      " 0.76194056 0.66909568 0.66969158        nan 0.67576944 0.74180325\n",
      "        nan 0.         0.         0.                nan 0.68072194\n",
      " 0.         0.67670219 0.50646443 0.763574   0.70846607 0.71113813\n",
      " 0.70460382        nan 0.70026621        nan        nan 0.\n",
      " 0.69756328 0.71012964 0.74977212 0.66851889 0.69047703 0.67259167\n",
      " 0.                nan        nan 0.         0.70104728 0.67226663\n",
      " 0.68031033 0.66447626 0.68309125        nan 0.70809214 0.68037804\n",
      "        nan 0.70773709 0.68654148 0.66713922        nan 0.67811917\n",
      " 0.         0.         0.69064945        nan 0.         0.69483823\n",
      " 0.69569878 0.         0.                nan 0.68935077 0.70350595\n",
      " 0.68806138 0.70785959 0.67904304        nan        nan 0.68287171\n",
      "        nan 0.26540284 0.67663322 0.70642236 0.70934595 0.65736756\n",
      " 0.75152052 0.68131818 0.70460382 0.68350833 0.         0.67824929\n",
      " 0.69505322 0.68330427 0.                nan 0.71268032        nan\n",
      "        nan 0.70725158 0.50922562 0.70460382 0.68861292        nan\n",
      " 0.70697917        nan        nan        nan 0.66831033 0.68414649\n",
      " 0.                nan 0.66477134 0.         0.6792055  0.66912521\n",
      "        nan 0.                nan        nan 0.69375173        nan\n",
      "        nan 0.6778533  0.68931949 0.70409663 0.70759732 0.67083252\n",
      " 0.67803079 0.         0.66258699 0.68266381 0.67862407        nan\n",
      " 0.67422288        nan 0.66883594 0.         0.70566975 0.72710233\n",
      " 0.67946006 0.67850133 0.68063638        nan        nan 0.69148902\n",
      " 0.68675331 0.71538635 0.67478759 0.         0.70332233 0.68445376\n",
      "        nan 0.64795351 0.6765977  0.6759676  0.66942068 0.67200509\n",
      " 0.68265342 0.68168032 0.         0.         0.         0.70681483\n",
      " 0.         0.         0.         0.         0.         0.70480776\n",
      "        nan 0.71226301        nan        nan 0.68767378 0.69535962\n",
      " 0.         0.         0.6793593  0.                nan 0.7299592\n",
      "        nan 0.70792085 0.67812705        nan 0.                nan\n",
      " 0.         0.         0.68306835        nan 0.71998713 0.\n",
      " 0.6500296  0.         0.68764657        nan        nan        nan\n",
      "        nan        nan 0.72114613        nan        nan        nan\n",
      " 0.75873016 0.68419123        nan        nan 0.68754302 0.\n",
      " 0.72177421 0.         0.68694027 0.67905708 0.68086339 0.\n",
      " 0.67655915 0.66531734 0.72385363 0.68027786        nan 0.\n",
      " 0.66704165 0.6936955  0.72437017 0.67970956        nan 0.68712359\n",
      " 0.6964541  0.70460382 0.71738007 0.68290663 0.68227479        nan\n",
      " 0.75117151 0.68358776 0.66024058 0.72311338        nan 0.\n",
      " 0.68194903 0.66881334 0.65535261        nan 0.68515865        nan\n",
      " 0.         0.74977212 0.69309916        nan        nan 0.6848054\n",
      "        nan 0.69889524        nan 0.         0.64580651 0.66197031\n",
      " 0.68625645 0.68097478        nan 0.67432928 0.67452518 0.\n",
      " 0.67583282 0.763574   0.                nan 0.71046021 0.67307079\n",
      "        nan        nan 0.76678255        nan 0.         0.66559577\n",
      " 0.67164274        nan 0.                nan 0.         0.\n",
      " 0.72072535        nan        nan 0.74921065        nan 0.\n",
      " 0.                nan        nan 0.66666538 0.68308712 0.\n",
      " 0.70416129 0.                nan 0.74064823 0.                nan\n",
      "        nan 0.63398098 0.         0.         0.67665307 0.67641777\n",
      " 0.                nan 0.75152779 0.                nan 0.70460382\n",
      " 0.67013372        nan 0.71206382 0.                nan        nan\n",
      " 0.         0.66912098        nan 0.67850813 0.70483862 0.66844149\n",
      " 0.70752512 0.66704776 0.         0.         0.         0.67305792\n",
      " 0.                nan        nan        nan 0.67381109 0.\n",
      "        nan 0.67942249 0.68284862 0.6950227  0.         0.67794307\n",
      "        nan        nan 0.7073339  0.6553382  0.66741706 0.7073339\n",
      " 0.71998713 0.                nan        nan        nan 0.\n",
      "        nan        nan 0.         0.67565695 0.67277026 0.70908464\n",
      " 0.                nan        nan 0.         0.72072535 0.\n",
      " 0.         0.71150333 0.71035837 0.7105081  0.         0.68082163\n",
      " 0.         0.         0.72036639 0.66095657        nan        nan\n",
      "        nan 0.         0.7213596  0.7073339  0.         0.68844932\n",
      " 0.         0.66800242 0.         0.         0.68293828        nan\n",
      " 0.                nan 0.         0.68420258 0.         0.66321023\n",
      " 0.                nan 0.7042649         nan 0.         0.70586068\n",
      "        nan        nan 0.70961427 0.                nan 0.71248988\n",
      " 0.72036639 0.6953814  0.68200433 0.68302656 0.24458874 0.68522952\n",
      " 0.                nan        nan 0.         0.         0.\n",
      " 0.69803649        nan 0.6691544  0.68969314 0.73320832 0.67113948\n",
      " 0.74335157 0.69253396 0.71169687 0.66872542 0.68401756 0.\n",
      " 0.71208637        nan 0.         0.                nan 0.66958032\n",
      "        nan        nan 0.65661138 0.                nan 0.6755884\n",
      " 0.         0.69077604 0.70731863 0.70460382 0.                nan\n",
      " 0.6900067  0.67819504 0.68036342 0.72330426        nan 0.\n",
      " 0.                nan 0.         0.         0.65017704 0.67848181\n",
      " 0.66534153 0.65309197        nan        nan 0.67361951 0.69422419\n",
      " 0.         0.         0.67689111        nan 0.         0.68114666\n",
      " 0.6763068  0.         0.70975207        nan 0.69167312 0.75064318\n",
      " 0.70132604 0.68399075        nan 0.66034669 0.67558278        nan\n",
      " 0.         0.         0.         0.         0.         0.69330854\n",
      " 0.70873225 0.         0.         0.68380553 0.68059197        nan\n",
      "        nan        nan 0.6836794  0.66884496        nan        nan\n",
      "        nan 0.68286789 0.69039998        nan 0.         0.68626448\n",
      " 0.681058   0.                nan        nan        nan        nan\n",
      " 0.67115004        nan 0.67864091        nan 0.67268345        nan\n",
      " 0.                nan 0.75676015        nan 0.65318304 0.69669473\n",
      " 0.67675492 0.68954009 0.67606287 0.71475381 0.         0.72510094\n",
      " 0.67649179 0.6986373  0.67868677 0.66548961        nan 0.68832589\n",
      " 0.67560916        nan 0.         0.73267999 0.         0.7073339\n",
      " 0.76147632 0.6757299  0.73093961 0.70152372 0.                nan\n",
      "        nan 0.67778929        nan        nan 0.66665159        nan\n",
      "        nan 0.68408191        nan 0.7050835  0.         0.69815605\n",
      " 0.68524399        nan 0.         0.67629663 0.66270344 0.70853984\n",
      " 0.72311338        nan        nan 0.         0.         0.73320832\n",
      " 0.         0.         0.         0.70754237        nan        nan\n",
      " 0.72290443 0.         0.                nan 0.69288681        nan\n",
      "        nan        nan        nan        nan 0.70898078        nan\n",
      " 0.                nan        nan 0.67189992 0.72277268 0.\n",
      "        nan 0.6792575  0.71383609        nan 0.68968695        nan\n",
      " 0.                nan        nan 0.67205533 0.73502094 0.69783244\n",
      " 0.         0.67323309 0.                nan 0.         0.66314373\n",
      " 0.71126024 0.70460382 0.         0.70125352 0.69441003 0.66695992\n",
      "        nan 0.                nan 0.         0.70595955 0.6962978\n",
      " 0.                nan 0.67436015 0.73261626        nan 0.70752936\n",
      "        nan 0.72161401 0.71284991 0.73172065 0.67090228 0.68559078\n",
      " 0.75463517        nan 0.68326851 0.         0.70992077 0.\n",
      " 0.72062219 0.67095684 0.72046609 0.72805107        nan        nan\n",
      " 0.65302693 0.         0.         0.68581365 0.         0.67795698\n",
      "        nan 0.70524456 0.68749181 0.68074916        nan        nan\n",
      " 0.70460382 0.70664469        nan 0.         0.67451127 0.\n",
      " 0.                nan 0.72114613        nan 0.67785926 0.\n",
      " 0.69737279 0.                nan 0.70411083 0.67863141        nan\n",
      " 0.66733072 0.         0.         0.71539919        nan 0.70051301\n",
      " 0.67725492 0.66293547 0.                nan        nan 0.\n",
      " 0.68835074 0.67754205 0.71136944 0.         0.69061516        nan\n",
      "        nan 0.53156308 0.67893639 0.         0.67336561 0.64848605\n",
      " 0.70026588 0.66004743        nan 0.71998713        nan 0.72176793\n",
      "        nan 0.7096526  0.69119509 0.68229564 0.65296612 0.\n",
      " 0.6865735  0.73267999        nan        nan 0.69121824 0.70409663\n",
      " 0.                nan 0.67884437 0.70460382 0.         0.71136388\n",
      "        nan 0.6808928  0.         0.         0.68277537 0.\n",
      " 0.6886776  0.65898579        nan 0.68435133 0.         0.71285941\n",
      " 0.67474648        nan 0.         0.69494009 0.68395737 0.\n",
      "        nan 0.68070279 0.67411645 0.         0.67809095 0.67872049\n",
      "        nan 0.2535014  0.67302162 0.69574554        nan        nan\n",
      " 0.68786032 0.67597433 0.         0.67072309        nan 0.6633321\n",
      " 0.                nan 0.         0.         0.6832628  0.\n",
      " 0.         0.                nan        nan        nan        nan\n",
      " 0.         0.         0.66580862        nan 0.72338692 0.25481481\n",
      "        nan        nan        nan        nan 0.6793803  0.\n",
      " 0.         0.66631611 0.         0.70849634 0.73267999 0.\n",
      " 0.75926497 0.                nan        nan        nan 0.71571264\n",
      " 0.7433241  0.69104042        nan        nan        nan 0.67433494\n",
      " 0.         0.74117657 0.67888257 0.70478962 0.67858117 0.\n",
      " 0.69733763        nan 0.75805313 0.70514521        nan        nan\n",
      "        nan 0.69284825 0.68692263 0.                nan 0.66629019\n",
      "        nan 0.67506554 0.         0.66296326 0.         0.66938254\n",
      "        nan 0.         0.                nan        nan 0.69800872\n",
      "        nan 0.70787187 0.         0.         0.         0.71480306\n",
      " 0.         0.67776216        nan 0.70959544        nan        nan\n",
      " 0.70853554 0.         0.68791426 0.         0.70519604 0.68700518\n",
      " 0.         0.68057305 0.67410043 0.69615611 0.                nan\n",
      " 0.         0.68199884 0.         0.         0.69349136 0.6951792\n",
      " 0.67105517 0.67611111 0.68121617 0.67426211 0.67783614 0.70777236\n",
      "        nan 0.69558821 0.68813455 0.68069653]\n",
      "  warnings.warn(\n"
     ]
    },
    {
     "data": {
      "text/plain": [
       "RandomizedSearchCV(cv=KFold(n_splits=3, random_state=None, shuffle=False),\n",
       "                   estimator=LGBMClassifier(), n_iter=1000, n_jobs=-1,\n",
       "                   param_distributions={'boosting_type': ['gbdt', 'dart',\n",
       "                                                          'goss', 'rf'],\n",
       "                                        'colsample_bytree': <scipy.stats._distn_infrastructure.rv_frozen object at 0x00000209A6430220>,\n",
       "                                        'learning_rate': <scipy.stats._distn_infrastructure.rv_frozen object at 0x000...\n",
       "                                        'n_estimators': <scipy.stats._distn_infrastructure.rv_frozen object at 0x00000209A6414A30>,\n",
       "                                        'num_leaves': <scipy.stats._distn_infrastructure.rv_frozen object at 0x00000209A6426B50>,\n",
       "                                        'reg_alpha': <scipy.stats._distn_infrastructure.rv_frozen object at 0x00000209A6426D90>,\n",
       "                                        'reg_lambda': <scipy.stats._distn_infrastructure.rv_frozen object at 0x00000209A6430250>},\n",
       "                   scoring='precision', verbose=True)"
      ]
     },
     "execution_count": 57,
     "metadata": {},
     "output_type": "execute_result"
    }
   ],
   "source": [
    "from lightgbm import LGBMClassifier\n",
    "search_space ={'boosting_type': ['gbdt','dart','goss','rf'],\n",
    "              'num_leaves': randint(2,8),\n",
    "              'max_depth': randint(1,3),\n",
    "              'learning_rate': gamma(1, loc=0, scale=0.1),\n",
    "              'n_estimators': randint(10,50),\n",
    "              'colsample_bytree': beta(2, 1, loc=0, scale=1),\n",
    "              'reg_alpha': gamma(.5, loc=0, scale=0.5),\n",
    "              'reg_lambda': gamma(.5, loc=0, scale=0.5)}\n",
    "\n",
    "n_iter_search = 1000\n",
    "\n",
    "random_search = RandomizedSearchCV(LGBMClassifier(), \n",
    "                           param_distributions=search_space,\n",
    "                           n_iter=n_iter_search, \n",
    "                           cv=KFold(3), \n",
    "                           scoring='precision', \n",
    "                           n_jobs=-1, \n",
    "                           verbose=True,\n",
    "                           refit=True)\n",
    "\n",
    "random_search.fit(X_train, y_train)"
   ]
  },
  {
   "cell_type": "code",
   "execution_count": 58,
   "metadata": {
    "ExecuteTime": {
     "end_time": "2021-10-01T11:36:07.941890Z",
     "start_time": "2021-10-01T11:36:07.927927Z"
    }
   },
   "outputs": [
    {
     "data": {
      "text/plain": [
       "LGBMClassifier(boosting_type='dart', colsample_bytree=0.9262974564010118,\n",
       "               learning_rate=0.07674814357166546, max_depth=2, n_estimators=13,\n",
       "               num_leaves=6, reg_alpha=0.04483792776028987,\n",
       "               reg_lambda=0.6029597113859376)"
      ]
     },
     "execution_count": 58,
     "metadata": {},
     "output_type": "execute_result"
    }
   ],
   "source": [
    "random_search.best_estimator_"
   ]
  },
  {
   "cell_type": "code",
   "execution_count": 34,
   "metadata": {
    "ExecuteTime": {
     "end_time": "2021-09-30T21:34:12.438687Z",
     "start_time": "2021-09-30T21:34:12.428715Z"
    }
   },
   "outputs": [
    {
     "data": {
      "text/plain": [
       "{'boosting_type': 'dart',\n",
       " 'colsample_bytree': 0.15007818119581903,\n",
       " 'learning_rate': 0.04931351695666615,\n",
       " 'max_depth': 2,\n",
       " 'n_estimators': 36,\n",
       " 'num_leaves': 5,\n",
       " 'reg_alpha': 0.12484328115152793,\n",
       " 'reg_lambda': 0.10269008968087633}"
      ]
     },
     "execution_count": 34,
     "metadata": {},
     "output_type": "execute_result"
    }
   ],
   "source": [
    "random_search.best_params_"
   ]
  },
  {
   "cell_type": "code",
   "execution_count": 35,
   "metadata": {
    "ExecuteTime": {
     "end_time": "2021-09-30T21:34:12.853046Z",
     "start_time": "2021-09-30T21:34:12.844070Z"
    }
   },
   "outputs": [
    {
     "data": {
      "text/plain": [
       "0.821504884004884"
      ]
     },
     "execution_count": 35,
     "metadata": {},
     "output_type": "execute_result"
    }
   ],
   "source": [
    "random_search.best_score_"
   ]
  },
  {
   "cell_type": "code",
   "execution_count": 36,
   "metadata": {
    "ExecuteTime": {
     "end_time": "2021-09-30T21:34:13.506254Z",
     "start_time": "2021-09-30T21:34:13.453416Z"
    }
   },
   "outputs": [
    {
     "data": {
      "text/plain": [
       "LGBMClassifier(boosting_type='dart', colsample_bytree=0.15007818119581903,\n",
       "               learning_rate=0.04931351695666615, max_depth=2, n_estimators=36,\n",
       "               num_leaves=5, reg_alpha=0.12484328115152793,\n",
       "               reg_lambda=0.10269008968087633)"
      ]
     },
     "execution_count": 36,
     "metadata": {},
     "output_type": "execute_result"
    }
   ],
   "source": [
    "random_search.best_estimator_.fit(X_train, y_train)"
   ]
  },
  {
   "cell_type": "code",
   "execution_count": 37,
   "metadata": {
    "ExecuteTime": {
     "end_time": "2021-09-30T21:34:14.018399Z",
     "start_time": "2021-09-30T21:34:13.995974Z"
    },
    "scrolled": false
   },
   "outputs": [
    {
     "data": {
      "text/plain": [
       "0.7566646326569091"
      ]
     },
     "execution_count": 37,
     "metadata": {},
     "output_type": "execute_result"
    }
   ],
   "source": [
    "roc_auc_score(y_test, random_search.best_estimator_.predict_proba(X_test)[:, 1])"
   ]
  },
  {
   "cell_type": "code",
   "execution_count": null,
   "metadata": {},
   "outputs": [],
   "source": []
  },
  {
   "cell_type": "code",
   "execution_count": 38,
   "metadata": {
    "ExecuteTime": {
     "end_time": "2021-09-30T21:34:22.483285Z",
     "start_time": "2021-09-30T21:34:22.468324Z"
    }
   },
   "outputs": [],
   "source": [
    "import joblib"
   ]
  },
  {
   "cell_type": "code",
   "execution_count": 39,
   "metadata": {
    "ExecuteTime": {
     "end_time": "2021-09-30T21:34:22.853975Z",
     "start_time": "2021-09-30T21:34:22.844002Z"
    }
   },
   "outputs": [
    {
     "data": {
      "text/plain": [
       "['dict.pkl']"
      ]
     },
     "execution_count": 39,
     "metadata": {},
     "output_type": "execute_result"
    }
   ],
   "source": [
    "my_dict = {'Atum': 120, \n",
    "           'Kali': 130,\n",
    "           'Pingo':150}\n",
    "joblib.dump(my_dict, 'dict.pkl')"
   ]
  },
  {
   "cell_type": "code",
   "execution_count": 40,
   "metadata": {
    "ExecuteTime": {
     "end_time": "2021-09-30T21:34:23.546771Z",
     "start_time": "2021-09-30T21:34:23.523846Z"
    }
   },
   "outputs": [
    {
     "data": {
      "text/plain": [
       "['modelo.pkl']"
      ]
     },
     "execution_count": 40,
     "metadata": {},
     "output_type": "execute_result"
    }
   ],
   "source": [
    "joblib.dump(random_search.best_estimator_, 'modelo.pkl')"
   ]
  },
  {
   "cell_type": "code",
   "execution_count": null,
   "metadata": {},
   "outputs": [],
   "source": []
  },
  {
   "cell_type": "code",
   "execution_count": null,
   "metadata": {},
   "outputs": [],
   "source": []
  },
  {
   "cell_type": "markdown",
   "metadata": {
    "heading_collapsed": true
   },
   "source": [
    "# Using pipelines to search"
   ]
  },
  {
   "cell_type": "code",
   "execution_count": 47,
   "metadata": {
    "ExecuteTime": {
     "end_time": "2021-05-11T17:39:47.193311Z",
     "start_time": "2021-05-11T17:39:47.190203Z"
    },
    "hidden": true
   },
   "outputs": [],
   "source": [
    "from sklearn.pipeline import Pipeline\n",
    "from sklearn.decomposition import PCA\n",
    "from sklearn.feature_selection import SelectKBest\n",
    "from sklearn.preprocessing import StandardScaler"
   ]
  },
  {
   "cell_type": "code",
   "execution_count": 65,
   "metadata": {
    "ExecuteTime": {
     "end_time": "2021-05-11T19:27:44.829216Z",
     "start_time": "2021-05-11T19:27:44.822727Z"
    },
    "hidden": true
   },
   "outputs": [
    {
     "data": {
      "text/plain": [
       "(460, 11)"
      ]
     },
     "execution_count": 65,
     "metadata": {},
     "output_type": "execute_result"
    }
   ],
   "source": [
    "X_train.shape"
   ]
  },
  {
   "cell_type": "code",
   "execution_count": null,
   "metadata": {
    "ExecuteTime": {
     "end_time": "2021-05-11T19:29:30.279448Z",
     "start_time": "2021-05-11T19:29:00.326Z"
    },
    "hidden": true
   },
   "outputs": [],
   "source": [
    "pipe = Pipeline([('preprocessing', PCA()),\n",
    "                 ('modelling', model)])\n"
   ]
  },
  {
   "cell_type": "code",
   "execution_count": 74,
   "metadata": {
    "ExecuteTime": {
     "end_time": "2020-05-07T19:19:25.496439Z",
     "start_time": "2020-05-07T19:19:25.491428Z"
    },
    "hidden": true
   },
   "outputs": [
    {
     "data": {
      "text/plain": [
       "1680"
      ]
     },
     "execution_count": 74,
     "metadata": {},
     "output_type": "execute_result"
    }
   ],
   "source": [
    "len(np.arange(0, 4, 0.2)) * 14 * 2 * 3"
   ]
  },
  {
   "cell_type": "code",
   "execution_count": 78,
   "metadata": {
    "ExecuteTime": {
     "end_time": "2021-05-11T19:29:41.730141Z",
     "start_time": "2021-05-11T19:29:41.726614Z"
    },
    "hidden": true
   },
   "outputs": [],
   "source": [
    "# Create space of candidate values\n",
    "search_space = [{'preprocessing__n_components': np.arange(1, 10),\n",
    "                 'modelling__penalty': ['l1', 'l2'],\n",
    "                 'modelling__C': np.arange(0, 4, 0.2)}]"
   ]
  },
  {
   "cell_type": "code",
   "execution_count": 79,
   "metadata": {
    "ExecuteTime": {
     "end_time": "2021-05-11T19:32:39.390774Z",
     "start_time": "2021-05-11T19:29:44.248683Z"
    },
    "hidden": true
   },
   "outputs": [
    {
     "name": "stdout",
     "output_type": "stream",
     "text": [
      "Fitting 3 folds for each of 360 candidates, totalling 1080 fits\n"
     ]
    },
    {
     "name": "stderr",
     "output_type": "stream",
     "text": [
      "[Parallel(n_jobs=-1)]: Using backend LokyBackend with 12 concurrent workers.\n",
      "[Parallel(n_jobs=-1)]: Done  26 tasks      | elapsed:  2.9min\n",
      "[Parallel(n_jobs=-1)]: Done  27 tasks      | elapsed:  2.9min\n",
      "[Parallel(n_jobs=-1)]: Done  28 tasks      | elapsed:  2.9min\n",
      "[Parallel(n_jobs=-1)]: Done  29 tasks      | elapsed:  2.9min\n",
      "[Parallel(n_jobs=-1)]: Done  30 tasks      | elapsed:  2.9min\n",
      "[Parallel(n_jobs=-1)]: Done  31 tasks      | elapsed:  2.9min\n",
      "[Parallel(n_jobs=-1)]: Done  32 tasks      | elapsed:  2.9min\n",
      "[Parallel(n_jobs=-1)]: Done  33 tasks      | elapsed:  2.9min\n",
      "[Parallel(n_jobs=-1)]: Done  34 tasks      | elapsed:  2.9min\n",
      "[Parallel(n_jobs=-1)]: Done  35 tasks      | elapsed:  2.9min\n",
      "[Parallel(n_jobs=-1)]: Done  36 tasks      | elapsed:  2.9min\n",
      "[Parallel(n_jobs=-1)]: Done  37 tasks      | elapsed:  2.9min\n",
      "[Parallel(n_jobs=-1)]: Done  38 tasks      | elapsed:  2.9min\n",
      "[Parallel(n_jobs=-1)]: Done  39 tasks      | elapsed:  2.9min\n",
      "[Parallel(n_jobs=-1)]: Done  40 tasks      | elapsed:  2.9min\n",
      "[Parallel(n_jobs=-1)]: Done  41 tasks      | elapsed:  2.9min\n",
      "[Parallel(n_jobs=-1)]: Done  42 tasks      | elapsed:  2.9min\n",
      "[Parallel(n_jobs=-1)]: Done  43 tasks      | elapsed:  2.9min\n",
      "[Parallel(n_jobs=-1)]: Done  44 tasks      | elapsed:  2.9min\n",
      "[Parallel(n_jobs=-1)]: Done  45 tasks      | elapsed:  2.9min\n",
      "[Parallel(n_jobs=-1)]: Done  46 tasks      | elapsed:  2.9min\n",
      "[Parallel(n_jobs=-1)]: Done  47 tasks      | elapsed:  2.9min\n",
      "[Parallel(n_jobs=-1)]: Done  48 tasks      | elapsed:  2.9min\n",
      "[Parallel(n_jobs=-1)]: Done  49 tasks      | elapsed:  2.9min\n"
     ]
    },
    {
     "ename": "KeyboardInterrupt",
     "evalue": "",
     "output_type": "error",
     "traceback": [
      "\u001b[1;31m---------------------------------------------------------------------------\u001b[0m",
      "\u001b[1;31mKeyboardInterrupt\u001b[0m                         Traceback (most recent call last)",
      "\u001b[1;32m<ipython-input-79-b44304ce77f0>\u001b[0m in \u001b[0;36m<module>\u001b[1;34m\u001b[0m\n\u001b[0;32m      6\u001b[0m                            verbose=True)\n\u001b[0;32m      7\u001b[0m \u001b[1;33m\u001b[0m\u001b[0m\n\u001b[1;32m----> 8\u001b[1;33m \u001b[0mgrid_search\u001b[0m\u001b[1;33m.\u001b[0m\u001b[0mfit\u001b[0m\u001b[1;33m(\u001b[0m\u001b[0mX_train\u001b[0m\u001b[1;33m,\u001b[0m \u001b[0my_train\u001b[0m\u001b[1;33m)\u001b[0m\u001b[1;33m\u001b[0m\u001b[1;33m\u001b[0m\u001b[0m\n\u001b[0m",
      "\u001b[1;32mc:\\users\\raian\\appdata\\local\\programs\\python\\python39\\lib\\site-packages\\sklearn\\utils\\validation.py\u001b[0m in \u001b[0;36minner_f\u001b[1;34m(*args, **kwargs)\u001b[0m\n\u001b[0;32m     70\u001b[0m                           FutureWarning)\n\u001b[0;32m     71\u001b[0m         \u001b[0mkwargs\u001b[0m\u001b[1;33m.\u001b[0m\u001b[0mupdate\u001b[0m\u001b[1;33m(\u001b[0m\u001b[1;33m{\u001b[0m\u001b[0mk\u001b[0m\u001b[1;33m:\u001b[0m \u001b[0marg\u001b[0m \u001b[1;32mfor\u001b[0m \u001b[0mk\u001b[0m\u001b[1;33m,\u001b[0m \u001b[0marg\u001b[0m \u001b[1;32min\u001b[0m \u001b[0mzip\u001b[0m\u001b[1;33m(\u001b[0m\u001b[0msig\u001b[0m\u001b[1;33m.\u001b[0m\u001b[0mparameters\u001b[0m\u001b[1;33m,\u001b[0m \u001b[0margs\u001b[0m\u001b[1;33m)\u001b[0m\u001b[1;33m}\u001b[0m\u001b[1;33m)\u001b[0m\u001b[1;33m\u001b[0m\u001b[1;33m\u001b[0m\u001b[0m\n\u001b[1;32m---> 72\u001b[1;33m         \u001b[1;32mreturn\u001b[0m \u001b[0mf\u001b[0m\u001b[1;33m(\u001b[0m\u001b[1;33m**\u001b[0m\u001b[0mkwargs\u001b[0m\u001b[1;33m)\u001b[0m\u001b[1;33m\u001b[0m\u001b[1;33m\u001b[0m\u001b[0m\n\u001b[0m\u001b[0;32m     73\u001b[0m     \u001b[1;32mreturn\u001b[0m \u001b[0minner_f\u001b[0m\u001b[1;33m\u001b[0m\u001b[1;33m\u001b[0m\u001b[0m\n\u001b[0;32m     74\u001b[0m \u001b[1;33m\u001b[0m\u001b[0m\n",
      "\u001b[1;32mc:\\users\\raian\\appdata\\local\\programs\\python\\python39\\lib\\site-packages\\sklearn\\model_selection\\_search.py\u001b[0m in \u001b[0;36mfit\u001b[1;34m(self, X, y, groups, **fit_params)\u001b[0m\n\u001b[0;32m    734\u001b[0m                 \u001b[1;32mreturn\u001b[0m \u001b[0mresults\u001b[0m\u001b[1;33m\u001b[0m\u001b[1;33m\u001b[0m\u001b[0m\n\u001b[0;32m    735\u001b[0m \u001b[1;33m\u001b[0m\u001b[0m\n\u001b[1;32m--> 736\u001b[1;33m             \u001b[0mself\u001b[0m\u001b[1;33m.\u001b[0m\u001b[0m_run_search\u001b[0m\u001b[1;33m(\u001b[0m\u001b[0mevaluate_candidates\u001b[0m\u001b[1;33m)\u001b[0m\u001b[1;33m\u001b[0m\u001b[1;33m\u001b[0m\u001b[0m\n\u001b[0m\u001b[0;32m    737\u001b[0m \u001b[1;33m\u001b[0m\u001b[0m\n\u001b[0;32m    738\u001b[0m         \u001b[1;31m# For multi-metric evaluation, store the best_index_, best_params_ and\u001b[0m\u001b[1;33m\u001b[0m\u001b[1;33m\u001b[0m\u001b[1;33m\u001b[0m\u001b[0m\n",
      "\u001b[1;32mc:\\users\\raian\\appdata\\local\\programs\\python\\python39\\lib\\site-packages\\sklearn\\model_selection\\_search.py\u001b[0m in \u001b[0;36m_run_search\u001b[1;34m(self, evaluate_candidates)\u001b[0m\n\u001b[0;32m   1186\u001b[0m     \u001b[1;32mdef\u001b[0m \u001b[0m_run_search\u001b[0m\u001b[1;33m(\u001b[0m\u001b[0mself\u001b[0m\u001b[1;33m,\u001b[0m \u001b[0mevaluate_candidates\u001b[0m\u001b[1;33m)\u001b[0m\u001b[1;33m:\u001b[0m\u001b[1;33m\u001b[0m\u001b[1;33m\u001b[0m\u001b[0m\n\u001b[0;32m   1187\u001b[0m         \u001b[1;34m\"\"\"Search all candidates in param_grid\"\"\"\u001b[0m\u001b[1;33m\u001b[0m\u001b[1;33m\u001b[0m\u001b[0m\n\u001b[1;32m-> 1188\u001b[1;33m         \u001b[0mevaluate_candidates\u001b[0m\u001b[1;33m(\u001b[0m\u001b[0mParameterGrid\u001b[0m\u001b[1;33m(\u001b[0m\u001b[0mself\u001b[0m\u001b[1;33m.\u001b[0m\u001b[0mparam_grid\u001b[0m\u001b[1;33m)\u001b[0m\u001b[1;33m)\u001b[0m\u001b[1;33m\u001b[0m\u001b[1;33m\u001b[0m\u001b[0m\n\u001b[0m\u001b[0;32m   1189\u001b[0m \u001b[1;33m\u001b[0m\u001b[0m\n\u001b[0;32m   1190\u001b[0m \u001b[1;33m\u001b[0m\u001b[0m\n",
      "\u001b[1;32mc:\\users\\raian\\appdata\\local\\programs\\python\\python39\\lib\\site-packages\\sklearn\\model_selection\\_search.py\u001b[0m in \u001b[0;36mevaluate_candidates\u001b[1;34m(candidate_params)\u001b[0m\n\u001b[0;32m    706\u001b[0m                               n_splits, n_candidates, n_candidates * n_splits))\n\u001b[0;32m    707\u001b[0m \u001b[1;33m\u001b[0m\u001b[0m\n\u001b[1;32m--> 708\u001b[1;33m                 out = parallel(delayed(_fit_and_score)(clone(base_estimator),\n\u001b[0m\u001b[0;32m    709\u001b[0m                                                        \u001b[0mX\u001b[0m\u001b[1;33m,\u001b[0m \u001b[0my\u001b[0m\u001b[1;33m,\u001b[0m\u001b[1;33m\u001b[0m\u001b[1;33m\u001b[0m\u001b[0m\n\u001b[0;32m    710\u001b[0m                                                        \u001b[0mtrain\u001b[0m\u001b[1;33m=\u001b[0m\u001b[0mtrain\u001b[0m\u001b[1;33m,\u001b[0m \u001b[0mtest\u001b[0m\u001b[1;33m=\u001b[0m\u001b[0mtest\u001b[0m\u001b[1;33m,\u001b[0m\u001b[1;33m\u001b[0m\u001b[1;33m\u001b[0m\u001b[0m\n",
      "\u001b[1;32mc:\\users\\raian\\appdata\\local\\programs\\python\\python39\\lib\\site-packages\\joblib\\parallel.py\u001b[0m in \u001b[0;36m__call__\u001b[1;34m(self, iterable)\u001b[0m\n\u001b[0;32m   1059\u001b[0m \u001b[1;33m\u001b[0m\u001b[0m\n\u001b[0;32m   1060\u001b[0m             \u001b[1;32mwith\u001b[0m \u001b[0mself\u001b[0m\u001b[1;33m.\u001b[0m\u001b[0m_backend\u001b[0m\u001b[1;33m.\u001b[0m\u001b[0mretrieval_context\u001b[0m\u001b[1;33m(\u001b[0m\u001b[1;33m)\u001b[0m\u001b[1;33m:\u001b[0m\u001b[1;33m\u001b[0m\u001b[1;33m\u001b[0m\u001b[0m\n\u001b[1;32m-> 1061\u001b[1;33m                 \u001b[0mself\u001b[0m\u001b[1;33m.\u001b[0m\u001b[0mretrieve\u001b[0m\u001b[1;33m(\u001b[0m\u001b[1;33m)\u001b[0m\u001b[1;33m\u001b[0m\u001b[1;33m\u001b[0m\u001b[0m\n\u001b[0m\u001b[0;32m   1062\u001b[0m             \u001b[1;31m# Make sure that we get a last message telling us we are done\u001b[0m\u001b[1;33m\u001b[0m\u001b[1;33m\u001b[0m\u001b[1;33m\u001b[0m\u001b[0m\n\u001b[0;32m   1063\u001b[0m             \u001b[0melapsed_time\u001b[0m \u001b[1;33m=\u001b[0m \u001b[0mtime\u001b[0m\u001b[1;33m.\u001b[0m\u001b[0mtime\u001b[0m\u001b[1;33m(\u001b[0m\u001b[1;33m)\u001b[0m \u001b[1;33m-\u001b[0m \u001b[0mself\u001b[0m\u001b[1;33m.\u001b[0m\u001b[0m_start_time\u001b[0m\u001b[1;33m\u001b[0m\u001b[1;33m\u001b[0m\u001b[0m\n",
      "\u001b[1;32mc:\\users\\raian\\appdata\\local\\programs\\python\\python39\\lib\\site-packages\\joblib\\parallel.py\u001b[0m in \u001b[0;36mretrieve\u001b[1;34m(self)\u001b[0m\n\u001b[0;32m    938\u001b[0m             \u001b[1;32mtry\u001b[0m\u001b[1;33m:\u001b[0m\u001b[1;33m\u001b[0m\u001b[1;33m\u001b[0m\u001b[0m\n\u001b[0;32m    939\u001b[0m                 \u001b[1;32mif\u001b[0m \u001b[0mgetattr\u001b[0m\u001b[1;33m(\u001b[0m\u001b[0mself\u001b[0m\u001b[1;33m.\u001b[0m\u001b[0m_backend\u001b[0m\u001b[1;33m,\u001b[0m \u001b[1;34m'supports_timeout'\u001b[0m\u001b[1;33m,\u001b[0m \u001b[1;32mFalse\u001b[0m\u001b[1;33m)\u001b[0m\u001b[1;33m:\u001b[0m\u001b[1;33m\u001b[0m\u001b[1;33m\u001b[0m\u001b[0m\n\u001b[1;32m--> 940\u001b[1;33m                     \u001b[0mself\u001b[0m\u001b[1;33m.\u001b[0m\u001b[0m_output\u001b[0m\u001b[1;33m.\u001b[0m\u001b[0mextend\u001b[0m\u001b[1;33m(\u001b[0m\u001b[0mjob\u001b[0m\u001b[1;33m.\u001b[0m\u001b[0mget\u001b[0m\u001b[1;33m(\u001b[0m\u001b[0mtimeout\u001b[0m\u001b[1;33m=\u001b[0m\u001b[0mself\u001b[0m\u001b[1;33m.\u001b[0m\u001b[0mtimeout\u001b[0m\u001b[1;33m)\u001b[0m\u001b[1;33m)\u001b[0m\u001b[1;33m\u001b[0m\u001b[1;33m\u001b[0m\u001b[0m\n\u001b[0m\u001b[0;32m    941\u001b[0m                 \u001b[1;32melse\u001b[0m\u001b[1;33m:\u001b[0m\u001b[1;33m\u001b[0m\u001b[1;33m\u001b[0m\u001b[0m\n\u001b[0;32m    942\u001b[0m                     \u001b[0mself\u001b[0m\u001b[1;33m.\u001b[0m\u001b[0m_output\u001b[0m\u001b[1;33m.\u001b[0m\u001b[0mextend\u001b[0m\u001b[1;33m(\u001b[0m\u001b[0mjob\u001b[0m\u001b[1;33m.\u001b[0m\u001b[0mget\u001b[0m\u001b[1;33m(\u001b[0m\u001b[1;33m)\u001b[0m\u001b[1;33m)\u001b[0m\u001b[1;33m\u001b[0m\u001b[1;33m\u001b[0m\u001b[0m\n",
      "\u001b[1;32mc:\\users\\raian\\appdata\\local\\programs\\python\\python39\\lib\\site-packages\\joblib\\_parallel_backends.py\u001b[0m in \u001b[0;36mwrap_future_result\u001b[1;34m(future, timeout)\u001b[0m\n\u001b[0;32m    540\u001b[0m         AsyncResults.get from multiprocessing.\"\"\"\n\u001b[0;32m    541\u001b[0m         \u001b[1;32mtry\u001b[0m\u001b[1;33m:\u001b[0m\u001b[1;33m\u001b[0m\u001b[1;33m\u001b[0m\u001b[0m\n\u001b[1;32m--> 542\u001b[1;33m             \u001b[1;32mreturn\u001b[0m \u001b[0mfuture\u001b[0m\u001b[1;33m.\u001b[0m\u001b[0mresult\u001b[0m\u001b[1;33m(\u001b[0m\u001b[0mtimeout\u001b[0m\u001b[1;33m=\u001b[0m\u001b[0mtimeout\u001b[0m\u001b[1;33m)\u001b[0m\u001b[1;33m\u001b[0m\u001b[1;33m\u001b[0m\u001b[0m\n\u001b[0m\u001b[0;32m    543\u001b[0m         \u001b[1;32mexcept\u001b[0m \u001b[0mCfTimeoutError\u001b[0m \u001b[1;32mas\u001b[0m \u001b[0me\u001b[0m\u001b[1;33m:\u001b[0m\u001b[1;33m\u001b[0m\u001b[1;33m\u001b[0m\u001b[0m\n\u001b[0;32m    544\u001b[0m             \u001b[1;32mraise\u001b[0m \u001b[0mTimeoutError\u001b[0m \u001b[1;32mfrom\u001b[0m \u001b[0me\u001b[0m\u001b[1;33m\u001b[0m\u001b[1;33m\u001b[0m\u001b[0m\n",
      "\u001b[1;32mc:\\users\\raian\\appdata\\local\\programs\\python\\python39\\lib\\concurrent\\futures\\_base.py\u001b[0m in \u001b[0;36mresult\u001b[1;34m(self, timeout)\u001b[0m\n\u001b[0;32m    433\u001b[0m                 \u001b[1;32mreturn\u001b[0m \u001b[0mself\u001b[0m\u001b[1;33m.\u001b[0m\u001b[0m__get_result\u001b[0m\u001b[1;33m(\u001b[0m\u001b[1;33m)\u001b[0m\u001b[1;33m\u001b[0m\u001b[1;33m\u001b[0m\u001b[0m\n\u001b[0;32m    434\u001b[0m \u001b[1;33m\u001b[0m\u001b[0m\n\u001b[1;32m--> 435\u001b[1;33m             \u001b[0mself\u001b[0m\u001b[1;33m.\u001b[0m\u001b[0m_condition\u001b[0m\u001b[1;33m.\u001b[0m\u001b[0mwait\u001b[0m\u001b[1;33m(\u001b[0m\u001b[0mtimeout\u001b[0m\u001b[1;33m)\u001b[0m\u001b[1;33m\u001b[0m\u001b[1;33m\u001b[0m\u001b[0m\n\u001b[0m\u001b[0;32m    436\u001b[0m \u001b[1;33m\u001b[0m\u001b[0m\n\u001b[0;32m    437\u001b[0m             \u001b[1;32mif\u001b[0m \u001b[0mself\u001b[0m\u001b[1;33m.\u001b[0m\u001b[0m_state\u001b[0m \u001b[1;32min\u001b[0m \u001b[1;33m[\u001b[0m\u001b[0mCANCELLED\u001b[0m\u001b[1;33m,\u001b[0m \u001b[0mCANCELLED_AND_NOTIFIED\u001b[0m\u001b[1;33m]\u001b[0m\u001b[1;33m:\u001b[0m\u001b[1;33m\u001b[0m\u001b[1;33m\u001b[0m\u001b[0m\n",
      "\u001b[1;32mc:\\users\\raian\\appdata\\local\\programs\\python\\python39\\lib\\threading.py\u001b[0m in \u001b[0;36mwait\u001b[1;34m(self, timeout)\u001b[0m\n\u001b[0;32m    310\u001b[0m         \u001b[1;32mtry\u001b[0m\u001b[1;33m:\u001b[0m    \u001b[1;31m# restore state no matter what (e.g., KeyboardInterrupt)\u001b[0m\u001b[1;33m\u001b[0m\u001b[1;33m\u001b[0m\u001b[0m\n\u001b[0;32m    311\u001b[0m             \u001b[1;32mif\u001b[0m \u001b[0mtimeout\u001b[0m \u001b[1;32mis\u001b[0m \u001b[1;32mNone\u001b[0m\u001b[1;33m:\u001b[0m\u001b[1;33m\u001b[0m\u001b[1;33m\u001b[0m\u001b[0m\n\u001b[1;32m--> 312\u001b[1;33m                 \u001b[0mwaiter\u001b[0m\u001b[1;33m.\u001b[0m\u001b[0macquire\u001b[0m\u001b[1;33m(\u001b[0m\u001b[1;33m)\u001b[0m\u001b[1;33m\u001b[0m\u001b[1;33m\u001b[0m\u001b[0m\n\u001b[0m\u001b[0;32m    313\u001b[0m                 \u001b[0mgotit\u001b[0m \u001b[1;33m=\u001b[0m \u001b[1;32mTrue\u001b[0m\u001b[1;33m\u001b[0m\u001b[1;33m\u001b[0m\u001b[0m\n\u001b[0;32m    314\u001b[0m             \u001b[1;32melse\u001b[0m\u001b[1;33m:\u001b[0m\u001b[1;33m\u001b[0m\u001b[1;33m\u001b[0m\u001b[0m\n",
      "\u001b[1;31mKeyboardInterrupt\u001b[0m: "
     ]
    }
   ],
   "source": [
    "grid_search = GridSearchCV(pipe, \n",
    "                           search_space, \n",
    "                           cv=KFold(3), \n",
    "                           scoring='roc_auc', \n",
    "                           n_jobs=-1, \n",
    "                           verbose=True)\n",
    "\n",
    "grid_search.fit(X_train, y_train)"
   ]
  },
  {
   "cell_type": "code",
   "execution_count": 52,
   "metadata": {
    "ExecuteTime": {
     "end_time": "2021-05-11T17:42:13.763892Z",
     "start_time": "2021-05-11T17:42:13.758925Z"
    },
    "hidden": true
   },
   "outputs": [
    {
     "data": {
      "text/plain": [
       "{'modelling__C': 3.8000000000000003,\n",
       " 'modelling__penalty': 'l2',\n",
       " 'preprocessing__n_components': 9}"
      ]
     },
     "execution_count": 52,
     "metadata": {},
     "output_type": "execute_result"
    }
   ],
   "source": [
    "grid_search.best_params_"
   ]
  },
  {
   "cell_type": "code",
   "execution_count": 89,
   "metadata": {
    "ExecuteTime": {
     "end_time": "2020-05-07T19:24:53.733541Z",
     "start_time": "2020-05-07T19:24:53.722574Z"
    },
    "hidden": true
   },
   "outputs": [
    {
     "data": {
      "text/plain": [
       "array([0, 0, 0, ..., 0, 0, 0], dtype=int64)"
      ]
     },
     "execution_count": 89,
     "metadata": {},
     "output_type": "execute_result"
    }
   ],
   "source": [
    "grid_search.best_estimator_.predict(X_train)"
   ]
  },
  {
   "cell_type": "markdown",
   "metadata": {
    "heading_collapsed": true
   },
   "source": [
    "# Using a more complicated pipeline."
   ]
  },
  {
   "cell_type": "code",
   "execution_count": 57,
   "metadata": {
    "ExecuteTime": {
     "end_time": "2021-05-11T17:55:31.518529Z",
     "start_time": "2021-05-11T17:55:31.503579Z"
    },
    "hidden": true
   },
   "outputs": [],
   "source": [
    "df = pd.read_csv('data/loan_dataset_train.csv')\n",
    "\n",
    "X = df.drop(columns=['Loan_ID', 'Loan_Status'])\n",
    "y = df.Loan_Status.apply(lambda x : 1 if x == 'Y' else 0)\n",
    "\n",
    "X_train, X_test, y_train, y_test = train_test_split(X, y, stratify=y)"
   ]
  },
  {
   "cell_type": "code",
   "execution_count": 49,
   "metadata": {
    "ExecuteTime": {
     "end_time": "2021-09-30T19:09:48.636591Z",
     "start_time": "2021-09-30T19:09:48.620657Z"
    },
    "hidden": true
   },
   "outputs": [],
   "source": [
    "from sklearn.preprocessing import StandardScaler\n",
    "from sklearn.impute import SimpleImputer\n",
    "from sklearn.preprocessing import OneHotEncoder\n",
    "from sklearn.pipeline import Pipeline\n",
    "from sklearn.linear_model import LogisticRegression"
   ]
  },
  {
   "cell_type": "code",
   "execution_count": 59,
   "metadata": {
    "ExecuteTime": {
     "end_time": "2021-05-11T17:55:32.171503Z",
     "start_time": "2021-05-11T17:55:32.152513Z"
    },
    "hidden": true
   },
   "outputs": [],
   "source": [
    "categorical_imputer = SimpleImputer(strategy='most_frequent')\n",
    "ordinal_encoder = OneHotEncoder(drop='first', handle_unknown='error')\n",
    "\n",
    "numerical_imputer = SimpleImputer()\n",
    "scaler = StandardScaler()\n",
    "\n",
    "categorical_pipeline = Pipeline(steps=[('missing', categorical_imputer),\n",
    "                                       ('encode', ordinal_encoder)])\n",
    "\n",
    "numerical_pipeline = Pipeline(steps=[('missing', numerical_imputer),\n",
    "                                     ('standardize', scaler)])"
   ]
  },
  {
   "cell_type": "code",
   "execution_count": 60,
   "metadata": {
    "ExecuteTime": {
     "end_time": "2021-05-11T17:55:33.104245Z",
     "start_time": "2021-05-11T17:55:33.094764Z"
    },
    "hidden": true
   },
   "outputs": [],
   "source": [
    "from lightgbm import LGBMClassifier\n",
    "from sklearn.compose import ColumnTransformer\n",
    "\n",
    "\n",
    "cat_columns = list(X_train.select_dtypes('object').columns)\n",
    "num_columns = list(X_train.select_dtypes(exclude='object').columns)\n",
    "dataprep = ColumnTransformer(transformers=[('numerical_transform', numerical_pipeline, num_columns),\n",
    "                                           ('categ_transform', categorical_pipeline, cat_columns)])\n",
    "\n",
    "\n",
    "\n",
    "pipeline = Pipeline(steps=[('dataprep', dataprep),\n",
    "                           ('model', LGBMClassifier())])"
   ]
  },
  {
   "cell_type": "code",
   "execution_count": 110,
   "metadata": {
    "ExecuteTime": {
     "end_time": "2020-05-07T19:38:43.981270Z",
     "start_time": "2020-05-07T19:38:43.977281Z"
    },
    "hidden": true
   },
   "outputs": [],
   "source": [
    "from sklearn.model_selection import GridSearchCV"
   ]
  },
  {
   "cell_type": "code",
   "execution_count": 61,
   "metadata": {
    "ExecuteTime": {
     "end_time": "2021-05-11T17:56:23.254922Z",
     "start_time": "2021-05-11T17:56:23.238987Z"
    },
    "hidden": true
   },
   "outputs": [],
   "source": [
    "parameters = {'dataprep__numerical_transform__missing__strategy': ['mean','median'],\n",
    "              'model__boosting_type': ['gbdt','dart','goss','rf'],\n",
    "              'model__num_leaves': [4, 8, 16],\n",
    "              'model__max_depth': [2,3,4],\n",
    "              'model__learning_rate': [0.01, 0.1,],\n",
    "              'model__n_estimators': [30, 50, 100],\n",
    "              'model__colsample_bytree': [0.8, 0.9],\n",
    "              'model__reg_alpha': [0, 0.1, 0.5],\n",
    "              'model__reg_lambda': [0, 0.1, 0.5],\n",
    "             }"
   ]
  },
  {
   "cell_type": "code",
   "execution_count": 113,
   "metadata": {
    "ExecuteTime": {
     "end_time": "2020-05-07T19:38:53.305910Z",
     "start_time": "2020-05-07T19:38:53.301899Z"
    },
    "hidden": true
   },
   "outputs": [
    {
     "data": {
      "text/plain": [
       "-2268282524595630939"
      ]
     },
     "execution_count": 113,
     "metadata": {},
     "output_type": "execute_result"
    }
   ],
   "source": [
    "hash('12')"
   ]
  },
  {
   "cell_type": "code",
   "execution_count": null,
   "metadata": {
    "hidden": true
   },
   "outputs": [],
   "source": []
  },
  {
   "cell_type": "code",
   "execution_count": 114,
   "metadata": {
    "ExecuteTime": {
     "end_time": "2020-05-07T19:40:35.555744Z",
     "start_time": "2020-05-07T19:38:55.280679Z"
    },
    "hidden": true
   },
   "outputs": [
    {
     "name": "stdout",
     "output_type": "stream",
     "text": [
      "Fitting 3 folds for each of 7776 candidates, totalling 23328 fits\n"
     ]
    },
    {
     "name": "stderr",
     "output_type": "stream",
     "text": [
      "[Parallel(n_jobs=-1)]: Using backend LokyBackend with 6 concurrent workers.\n",
      "[Parallel(n_jobs=-1)]: Done 100 tasks      | elapsed:    0.6s\n",
      "[Parallel(n_jobs=-1)]: Done 1300 tasks      | elapsed:    7.2s\n",
      "[Parallel(n_jobs=-1)]: Done 3300 tasks      | elapsed:   17.4s\n",
      "[Parallel(n_jobs=-1)]: Done 6100 tasks      | elapsed:   32.0s\n",
      "[Parallel(n_jobs=-1)]: Done 9700 tasks      | elapsed:   47.2s\n",
      "[Parallel(n_jobs=-1)]: Done 14100 tasks      | elapsed:  1.1min\n",
      "[Parallel(n_jobs=-1)]: Done 19300 tasks      | elapsed:  1.4min\n",
      "[Parallel(n_jobs=-1)]: Done 23328 out of 23328 | elapsed:  1.7min finished\n"
     ]
    },
    {
     "data": {
      "text/plain": [
       "GridSearchCV(cv=KFold(n_splits=3, random_state=None, shuffle=False),\n",
       "             error_score=nan,\n",
       "             estimator=Pipeline(memory=None,\n",
       "                                steps=[('dataprep',\n",
       "                                        ColumnTransformer(n_jobs=None,\n",
       "                                                          remainder='drop',\n",
       "                                                          sparse_threshold=0.3,\n",
       "                                                          transformer_weights=None,\n",
       "                                                          transformers=[('numerical_transform',\n",
       "                                                                         Pipeline(memory=None,\n",
       "                                                                                  steps=[('missing',\n",
       "                                                                                          SimpleImputer(add_indicator=False,\n",
       "                                                                                                        copy=True,\n",
       "                                                                                                        fill_...\n",
       "                         'model__boosting_type': ['gbdt', 'dart', 'goss', 'rf'],\n",
       "                         'model__colsample_bytree': [0.8, 0.9],\n",
       "                         'model__learning_rate': [0.01, 0.1],\n",
       "                         'model__max_depth': [2, 3, 4],\n",
       "                         'model__n_estimators': [30, 50, 100],\n",
       "                         'model__num_leaves': [4, 8, 16],\n",
       "                         'model__reg_alpha': [0, 0.1, 0.5],\n",
       "                         'model__reg_lambda': [0, 0.1, 0.5]},\n",
       "             pre_dispatch='2*n_jobs', refit=True, return_train_score=False,\n",
       "             scoring='roc_auc', verbose=True)"
      ]
     },
     "execution_count": 114,
     "metadata": {},
     "output_type": "execute_result"
    }
   ],
   "source": [
    "grid_search = GridSearchCV(pipeline, \n",
    "                           parameters, \n",
    "                           cv=KFold(3), \n",
    "                           scoring='roc_auc', \n",
    "                           n_jobs=-1, \n",
    "                           verbose=True)\n",
    "\n",
    "grid_search.fit(X_train, y_train)"
   ]
  },
  {
   "cell_type": "code",
   "execution_count": 116,
   "metadata": {
    "ExecuteTime": {
     "end_time": "2020-05-07T19:40:35.585733Z",
     "start_time": "2020-05-07T19:40:35.561729Z"
    },
    "hidden": true
   },
   "outputs": [
    {
     "data": {
      "text/plain": [
       "Pipeline(memory=None,\n",
       "         steps=[('dataprep',\n",
       "                 ColumnTransformer(n_jobs=None, remainder='drop',\n",
       "                                   sparse_threshold=0.3,\n",
       "                                   transformer_weights=None,\n",
       "                                   transformers=[('numerical_transform',\n",
       "                                                  Pipeline(memory=None,\n",
       "                                                           steps=[('missing',\n",
       "                                                                   SimpleImputer(add_indicator=False,\n",
       "                                                                                 copy=True,\n",
       "                                                                                 fill_value=None,\n",
       "                                                                                 missing_values=nan,\n",
       "                                                                                 strategy='mean',\n",
       "                                                                                 verbose=0)),\n",
       "                                                                  ('standardize',\n",
       "                                                                   StandardScaler(copy...\n",
       "                 LGBMClassifier(boosting_type='goss', class_weight=None,\n",
       "                                colsample_bytree=0.8, importance_type='split',\n",
       "                                learning_rate=0.1, max_depth=3,\n",
       "                                min_child_samples=20, min_child_weight=0.001,\n",
       "                                min_split_gain=0.0, n_estimators=50, n_jobs=-1,\n",
       "                                num_leaves=8, objective=None, random_state=None,\n",
       "                                reg_alpha=0, reg_lambda=0.5, silent=True,\n",
       "                                subsample=1.0, subsample_for_bin=200000,\n",
       "                                subsample_freq=0))],\n",
       "         verbose=False)"
      ]
     },
     "execution_count": 116,
     "metadata": {},
     "output_type": "execute_result"
    }
   ],
   "source": [
    "grid_search.best_estimator_"
   ]
  },
  {
   "cell_type": "code",
   "execution_count": 120,
   "metadata": {
    "ExecuteTime": {
     "end_time": "2020-05-07T19:42:52.263517Z",
     "start_time": "2020-05-07T19:42:52.258531Z"
    },
    "hidden": true
   },
   "outputs": [
    {
     "data": {
      "text/plain": [
       "{'dataprep__numerical_transform__missing__strategy': 'mean',\n",
       " 'model__boosting_type': 'goss',\n",
       " 'model__colsample_bytree': 0.8,\n",
       " 'model__learning_rate': 0.1,\n",
       " 'model__max_depth': 3,\n",
       " 'model__n_estimators': 50,\n",
       " 'model__num_leaves': 8,\n",
       " 'model__reg_alpha': 0,\n",
       " 'model__reg_lambda': 0.5}"
      ]
     },
     "execution_count": 120,
     "metadata": {},
     "output_type": "execute_result"
    }
   ],
   "source": [
    "grid_search.best_params_"
   ]
  },
  {
   "cell_type": "markdown",
   "metadata": {
    "heading_collapsed": true,
    "hidden": true
   },
   "source": [
    "## Random Search With pipeline"
   ]
  },
  {
   "cell_type": "code",
   "execution_count": 138,
   "metadata": {
    "ExecuteTime": {
     "end_time": "2020-05-07T20:00:08.894202Z",
     "start_time": "2020-05-07T19:56:55.107457Z"
    },
    "hidden": true,
    "scrolled": true
   },
   "outputs": [
    {
     "name": "stdout",
     "output_type": "stream",
     "text": [
      "Fitting 5 folds for each of 10000 candidates, totalling 50000 fits\n"
     ]
    },
    {
     "name": "stderr",
     "output_type": "stream",
     "text": [
      "[Parallel(n_jobs=-1)]: Using backend LokyBackend with 6 concurrent workers.\n",
      "[Parallel(n_jobs=-1)]: Done  40 tasks      | elapsed:    1.1s\n",
      "[Parallel(n_jobs=-1)]: Done 1132 tasks      | elapsed:    5.7s\n",
      "[Parallel(n_jobs=-1)]: Done 3132 tasks      | elapsed:   14.5s\n",
      "[Parallel(n_jobs=-1)]: Done 5932 tasks      | elapsed:   26.0s\n",
      "[Parallel(n_jobs=-1)]: Done 9532 tasks      | elapsed:   40.0s\n",
      "[Parallel(n_jobs=-1)]: Done 13932 tasks      | elapsed:   57.3s\n",
      "[Parallel(n_jobs=-1)]: Done 19132 tasks      | elapsed:  1.3min\n",
      "[Parallel(n_jobs=-1)]: Done 25132 tasks      | elapsed:  1.6min\n",
      "[Parallel(n_jobs=-1)]: Done 31932 tasks      | elapsed:  2.1min\n",
      "[Parallel(n_jobs=-1)]: Done 39532 tasks      | elapsed:  2.5min\n",
      "[Parallel(n_jobs=-1)]: Done 47932 tasks      | elapsed:  3.0min\n",
      "[Parallel(n_jobs=-1)]: Done 49989 out of 50000 | elapsed:  3.2min remaining:    0.0s\n",
      "[Parallel(n_jobs=-1)]: Done 50000 out of 50000 | elapsed:  3.2min finished\n"
     ]
    },
    {
     "data": {
      "text/plain": [
       "RandomizedSearchCV(cv=KFold(n_splits=5, random_state=None, shuffle=True),\n",
       "                   error_score=nan,\n",
       "                   estimator=Pipeline(memory=None,\n",
       "                                      steps=[('dataprep',\n",
       "                                              ColumnTransformer(n_jobs=None,\n",
       "                                                                remainder='drop',\n",
       "                                                                sparse_threshold=0.3,\n",
       "                                                                transformer_weights=None,\n",
       "                                                                transformers=[('numerical_transform',\n",
       "                                                                               Pipeline(memory=None,\n",
       "                                                                                        steps=[('missing',\n",
       "                                                                                                SimpleImputer(add_indicator=False,\n",
       "                                                                                                              copy=True,...\n",
       "                                        'model__num_leaves': <scipy.stats._distn_infrastructure.rv_frozen object at 0x000001AE7B63CDD8>,\n",
       "                                        'model__reg_alpha': <scipy.stats._distn_infrastructure.rv_frozen object at 0x000001AE7B6624E0>,\n",
       "                                        'model__reg_lambda': <scipy.stats._distn_infrastructure.rv_frozen object at 0x000001AE7B637128>},\n",
       "                   pre_dispatch='2*n_jobs', random_state=None, refit=True,\n",
       "                   return_train_score=False, scoring='roc_auc', verbose=True)"
      ]
     },
     "execution_count": 138,
     "metadata": {},
     "output_type": "execute_result"
    }
   ],
   "source": [
    "# specify parameters and distributions to sample from\n",
    "\n",
    "param_dist = {'model__boosting_type': ['gbdt','dart','goss','rf'],\n",
    "              'model__num_leaves': randint(2,8),\n",
    "              'model__max_depth': randint(1,3),\n",
    "              'model__learning_rate': gamma(1, loc=0, scale=0.1),\n",
    "              'model__n_estimators': randint(10,50),\n",
    "              'model__colsample_bytree': beta(2, 1, loc=0, scale=1),\n",
    "              'model__reg_alpha': gamma(.5, loc=0, scale=0.5),\n",
    "              'model__reg_lambda': gamma(.5, loc=0, scale=0.5)\n",
    "             }\n",
    "\n",
    "n_iter_search = 10000\n",
    "random_search = RandomizedSearchCV(pipeline, \n",
    "                                   param_distributions=param_dist,\n",
    "                                   n_iter=n_iter_search, \n",
    "                                   verbose=True, \n",
    "                                   cv=KFold(n_splits=5, shuffle=True),\n",
    "                                   scoring='roc_auc',\n",
    "                                   n_jobs=-1)\n",
    "\n",
    "random_search.fit(X_train, y_train)"
   ]
  },
  {
   "cell_type": "code",
   "execution_count": 139,
   "metadata": {
    "ExecuteTime": {
     "end_time": "2020-05-07T20:01:42.358733Z",
     "start_time": "2020-05-07T20:01:42.339784Z"
    },
    "hidden": true
   },
   "outputs": [
    {
     "data": {
      "text/plain": [
       "Pipeline(memory=None,\n",
       "         steps=[('dataprep',\n",
       "                 ColumnTransformer(n_jobs=None, remainder='drop',\n",
       "                                   sparse_threshold=0.3,\n",
       "                                   transformer_weights=None,\n",
       "                                   transformers=[('numerical_transform',\n",
       "                                                  Pipeline(memory=None,\n",
       "                                                           steps=[('missing',\n",
       "                                                                   SimpleImputer(add_indicator=False,\n",
       "                                                                                 copy=True,\n",
       "                                                                                 fill_value=None,\n",
       "                                                                                 missing_values=nan,\n",
       "                                                                                 strategy='mean',\n",
       "                                                                                 verbose=0)),\n",
       "                                                                  ('standardize',\n",
       "                                                                   StandardScaler(copy...\n",
       "                                importance_type='split',\n",
       "                                learning_rate=0.03177761772571983, max_depth=1,\n",
       "                                min_child_samples=20, min_child_weight=0.001,\n",
       "                                min_split_gain=0.0, n_estimators=43, n_jobs=-1,\n",
       "                                num_leaves=4, objective=None, random_state=None,\n",
       "                                reg_alpha=0.31343811372687985,\n",
       "                                reg_lambda=0.03416805165101736, silent=True,\n",
       "                                subsample=1.0, subsample_for_bin=200000,\n",
       "                                subsample_freq=0))],\n",
       "         verbose=False)"
      ]
     },
     "execution_count": 139,
     "metadata": {},
     "output_type": "execute_result"
    }
   ],
   "source": [
    "random_search.best_estimator_"
   ]
  },
  {
   "cell_type": "code",
   "execution_count": 140,
   "metadata": {
    "ExecuteTime": {
     "end_time": "2020-05-07T20:01:54.693061Z",
     "start_time": "2020-05-07T20:01:54.689072Z"
    },
    "hidden": true
   },
   "outputs": [
    {
     "data": {
      "text/plain": [
       "{'model__boosting_type': 'goss',\n",
       " 'model__colsample_bytree': 0.38886276123677543,\n",
       " 'model__learning_rate': 0.03177761772571983,\n",
       " 'model__max_depth': 1,\n",
       " 'model__n_estimators': 43,\n",
       " 'model__num_leaves': 4,\n",
       " 'model__reg_alpha': 0.31343811372687985,\n",
       " 'model__reg_lambda': 0.03416805165101736}"
      ]
     },
     "execution_count": 140,
     "metadata": {},
     "output_type": "execute_result"
    }
   ],
   "source": [
    "random_search.best_params_"
   ]
  },
  {
   "cell_type": "code",
   "execution_count": 141,
   "metadata": {
    "ExecuteTime": {
     "end_time": "2020-05-07T20:02:07.241562Z",
     "start_time": "2020-05-07T20:02:07.237545Z"
    },
    "hidden": true
   },
   "outputs": [
    {
     "data": {
      "text/plain": [
       "0.7858845661383393"
      ]
     },
     "execution_count": 141,
     "metadata": {},
     "output_type": "execute_result"
    }
   ],
   "source": [
    "random_search.best_score_"
   ]
  },
  {
   "cell_type": "code",
   "execution_count": 143,
   "metadata": {
    "ExecuteTime": {
     "end_time": "2020-05-07T20:02:30.526585Z",
     "start_time": "2020-05-07T20:02:30.523594Z"
    },
    "hidden": true
   },
   "outputs": [],
   "source": [
    "from sklearn.model_selection import learning_curve"
   ]
  },
  {
   "cell_type": "code",
   "execution_count": 144,
   "metadata": {
    "ExecuteTime": {
     "end_time": "2020-05-07T20:02:32.005921Z",
     "start_time": "2020-05-07T20:02:31.386571Z"
    },
    "hidden": true
   },
   "outputs": [
    {
     "data": {
      "text/plain": [
       "<matplotlib.legend.Legend at 0x1ae7b973588>"
      ]
     },
     "execution_count": 144,
     "metadata": {},
     "output_type": "execute_result"
    },
    {
     "data": {
      "image/png": "[encoded data removed]",
      "text/plain": [
       "<Figure size 576x396 with 1 Axes>"
      ]
     },
     "metadata": {},
     "output_type": "display_data"
    }
   ],
   "source": [
    "curves = learning_curve(random_search.best_estimator_, X_train, y_train, cv=KFold(n_splits=5, shuffle=True))\n",
    "\n",
    "train_sizes = curves[0]\n",
    "train_scores = curves[1]\n",
    "test_scores = curves[2]\n",
    "plt.plot(train_sizes, train_scores.mean(axis=1), '-o', label='Training AUC')\n",
    "plt.plot(train_sizes, test_scores.mean(axis=1), '-o', label='Testing AUC')\n",
    "plt.grid()\n",
    "plt.ylim([0.6, .85])\n",
    "plt.legend()"
   ]
  },
  {
   "cell_type": "code",
   "execution_count": 148,
   "metadata": {
    "ExecuteTime": {
     "end_time": "2020-05-07T20:04:02.736070Z",
     "start_time": "2020-05-07T20:04:02.700167Z"
    },
    "hidden": true
   },
   "outputs": [
    {
     "data": {
      "text/plain": [
       "Pipeline(memory=None,\n",
       "         steps=[('dataprep',\n",
       "                 ColumnTransformer(n_jobs=None, remainder='drop',\n",
       "                                   sparse_threshold=0.3,\n",
       "                                   transformer_weights=None,\n",
       "                                   transformers=[('numerical_transform',\n",
       "                                                  Pipeline(memory=None,\n",
       "                                                           steps=[('missing',\n",
       "                                                                   SimpleImputer(add_indicator=False,\n",
       "                                                                                 copy=True,\n",
       "                                                                                 fill_value=None,\n",
       "                                                                                 missing_values=nan,\n",
       "                                                                                 strategy='mean',\n",
       "                                                                                 verbose=0)),\n",
       "                                                                  ('standardize',\n",
       "                                                                   StandardScaler(copy...\n",
       "                                importance_type='split',\n",
       "                                learning_rate=0.03177761772571983, max_depth=1,\n",
       "                                min_child_samples=20, min_child_weight=0.001,\n",
       "                                min_split_gain=0.0, n_estimators=43, n_jobs=-1,\n",
       "                                num_leaves=4, objective=None, random_state=None,\n",
       "                                reg_alpha=0.31343811372687985,\n",
       "                                reg_lambda=0.03416805165101736, silent=True,\n",
       "                                subsample=1.0, subsample_for_bin=200000,\n",
       "                                subsample_freq=0))],\n",
       "         verbose=False)"
      ]
     },
     "execution_count": 148,
     "metadata": {},
     "output_type": "execute_result"
    }
   ],
   "source": [
    "random_search.best_estimator_.fit(X_train, y_train)"
   ]
  },
  {
   "cell_type": "code",
   "execution_count": 149,
   "metadata": {
    "ExecuteTime": {
     "end_time": "2020-05-07T20:04:06.390705Z",
     "start_time": "2020-05-07T20:04:06.380732Z"
    },
    "hidden": true
   },
   "outputs": [
    {
     "data": {
      "text/plain": [
       "0.723368710691824"
      ]
     },
     "execution_count": 149,
     "metadata": {},
     "output_type": "execute_result"
    }
   ],
   "source": [
    "roc_auc_score(y_test, random_search.best_estimator_.predict_proba(X_test)[:, 1])"
   ]
  },
  {
   "cell_type": "code",
   "execution_count": null,
   "metadata": {
    "hidden": true
   },
   "outputs": [],
   "source": []
  },
  {
   "cell_type": "markdown",
   "metadata": {
    "heading_collapsed": true,
    "hidden": true
   },
   "source": [
    "## Com a logistica"
   ]
  },
  {
   "cell_type": "code",
   "execution_count": 160,
   "metadata": {
    "ExecuteTime": {
     "end_time": "2020-05-07T20:09:19.233545Z",
     "start_time": "2020-05-07T20:09:19.224580Z"
    },
    "hidden": true
   },
   "outputs": [],
   "source": [
    "from lightgbm import LGBMClassifier\n",
    "from sklearn.compose import ColumnTransformer\n",
    "\n",
    "categorical_imputer = SimpleImputer(strategy='most_frequent')\n",
    "ordinal_encoder = OneHotEncoder(drop='first', handle_unknown='error')\n",
    "\n",
    "numerical_imputer = SimpleImputer()\n",
    "scaler = StandardScaler()\n",
    "\n",
    "categorical_pipeline = Pipeline(steps=[('missing', categorical_imputer),\n",
    "                                       ('encode', ordinal_encoder)])\n",
    "\n",
    "numerical_pipeline = Pipeline(steps=[('missing', numerical_imputer),\n",
    "                                     ('standardize', scaler)])\n",
    "cat_columns = list(X_train.select_dtypes('object').columns)\n",
    "num_columns = list(X_train.select_dtypes(exclude='object').columns)\n",
    "dataprep = ColumnTransformer(transformers=[('numerical_transform', numerical_pipeline, num_columns),\n",
    "                                           ('categ_transform', categorical_pipeline, cat_columns)])\n",
    "\n",
    "\n",
    "\n",
    "pipeline = Pipeline(steps=[('dataprep', dataprep),\n",
    "                           ('model', LogisticRegression(solver='saga'))])"
   ]
  },
  {
   "cell_type": "code",
   "execution_count": 171,
   "metadata": {
    "ExecuteTime": {
     "end_time": "2020-05-07T20:16:40.461296Z",
     "start_time": "2020-05-07T20:16:19.189406Z"
    },
    "hidden": true
   },
   "outputs": [
    {
     "name": "stdout",
     "output_type": "stream",
     "text": [
      "Fitting 5 folds for each of 1000 candidates, totalling 5000 fits\n"
     ]
    },
    {
     "name": "stderr",
     "output_type": "stream",
     "text": [
      "[Parallel(n_jobs=-1)]: Using backend LokyBackend with 6 concurrent workers.\n",
      "[Parallel(n_jobs=-1)]: Done 100 tasks      | elapsed:    0.5s\n",
      "[Parallel(n_jobs=-1)]: Done 1300 tasks      | elapsed:    5.4s\n",
      "[Parallel(n_jobs=-1)]: Done 3300 tasks      | elapsed:   14.0s\n",
      "[Parallel(n_jobs=-1)]: Done 5000 out of 5000 | elapsed:   21.1s finished\n"
     ]
    },
    {
     "data": {
      "text/plain": [
       "RandomizedSearchCV(cv=KFold(n_splits=5, random_state=None, shuffle=True),\n",
       "                   error_score=nan,\n",
       "                   estimator=Pipeline(memory=None,\n",
       "                                      steps=[('dataprep',\n",
       "                                              ColumnTransformer(n_jobs=None,\n",
       "                                                                remainder='drop',\n",
       "                                                                sparse_threshold=0.3,\n",
       "                                                                transformer_weights=None,\n",
       "                                                                transformers=[('numerical_transform',\n",
       "                                                                               Pipeline(memory=None,\n",
       "                                                                                        steps=[('missing',\n",
       "                                                                                                SimpleImputer(add_indicator=False,\n",
       "                                                                                                              copy=True,...\n",
       "                                                                 warm_start=False))],\n",
       "                                      verbose=False),\n",
       "                   iid='deprecated', n_iter=1000, n_jobs=-1,\n",
       "                   param_distributions={'dataprep__numerical_transform__missing__strategy': ['mean',\n",
       "                                                                                             'median'],\n",
       "                                        'model__C': <scipy.stats._distn_infrastructure.rv_frozen object at 0x000001AE7E69C3C8>},\n",
       "                   pre_dispatch='2*n_jobs', random_state=None, refit=True,\n",
       "                   return_train_score=False, scoring='roc_auc', verbose=True)"
      ]
     },
     "execution_count": 171,
     "metadata": {},
     "output_type": "execute_result"
    }
   ],
   "source": [
    "# specify parameters and distributions to sample from\n",
    "\n",
    "param_dist = {\n",
    "    'dataprep__numerical_transform__missing__strategy':['mean','median'],\n",
    "    'model__C': gamma(1, loc=0, scale=0.1)\n",
    "             }\n",
    "\n",
    "n_iter_search = 1000\n",
    "random_search = RandomizedSearchCV(pipeline, \n",
    "                                   param_distributions=param_dist,\n",
    "                                   n_iter=n_iter_search, verbose=True, \n",
    "                                   cv=KFold(n_splits=5, shuffle=True),\n",
    "                                   scoring='roc_auc',\n",
    "                                   n_jobs=-1)\n",
    "\n",
    "random_search.fit(X_train, y_train)"
   ]
  },
  {
   "cell_type": "code",
   "execution_count": 172,
   "metadata": {
    "ExecuteTime": {
     "end_time": "2020-05-07T20:16:40.467279Z",
     "start_time": "2020-05-07T20:16:40.463291Z"
    },
    "hidden": true
   },
   "outputs": [
    {
     "data": {
      "text/plain": [
       "{'dataprep__numerical_transform__missing__strategy': 'mean',\n",
       " 'model__C': 0.013206896835415592}"
      ]
     },
     "execution_count": 172,
     "metadata": {},
     "output_type": "execute_result"
    }
   ],
   "source": [
    "random_search.best_params_"
   ]
  },
  {
   "cell_type": "code",
   "execution_count": 173,
   "metadata": {
    "ExecuteTime": {
     "end_time": "2020-05-07T20:16:40.474261Z",
     "start_time": "2020-05-07T20:16:40.469274Z"
    },
    "hidden": true
   },
   "outputs": [
    {
     "data": {
      "text/plain": [
       "LogisticRegression(C=0.013206896835415592, class_weight=None, dual=False,\n",
       "                   fit_intercept=True, intercept_scaling=1, l1_ratio=None,\n",
       "                   max_iter=100, multi_class='auto', n_jobs=None, penalty='l2',\n",
       "                   random_state=None, solver='saga', tol=0.0001, verbose=0,\n",
       "                   warm_start=False)"
      ]
     },
     "execution_count": 173,
     "metadata": {},
     "output_type": "execute_result"
    }
   ],
   "source": [
    "random_search.best_estimator_.named_steps.model"
   ]
  },
  {
   "cell_type": "code",
   "execution_count": 174,
   "metadata": {
    "ExecuteTime": {
     "end_time": "2020-05-07T20:16:41.032335Z",
     "start_time": "2020-05-07T20:16:40.476256Z"
    },
    "hidden": true
   },
   "outputs": [
    {
     "data": {
      "text/plain": [
       "<matplotlib.legend.Legend at 0x1ae00936c50>"
      ]
     },
     "execution_count": 174,
     "metadata": {},
     "output_type": "execute_result"
    },
    {
     "data": {
      "image/png": "[encoded data removed]",
      "text/plain": [
       "<Figure size 576x396 with 1 Axes>"
      ]
     },
     "metadata": {},
     "output_type": "display_data"
    }
   ],
   "source": [
    "curves = learning_curve(random_search.best_estimator_, \n",
    "                        X_train, \n",
    "                        y_train, \n",
    "                        cv=KFold(n_splits=5, shuffle=True))\n",
    "\n",
    "train_sizes = curves[0]\n",
    "train_scores = curves[1]\n",
    "test_scores = curves[2]\n",
    "plt.plot(train_sizes, train_scores.mean(axis=1), '-o', label='Training AUC')\n",
    "plt.plot(train_sizes, test_scores.mean(axis=1), '-o', label='Testing AUC')\n",
    "plt.grid()\n",
    "plt.legend()"
   ]
  },
  {
   "cell_type": "code",
   "execution_count": 176,
   "metadata": {
    "ExecuteTime": {
     "end_time": "2020-05-07T20:16:59.179863Z",
     "start_time": "2020-05-07T20:16:59.170860Z"
    },
    "hidden": true
   },
   "outputs": [
    {
     "data": {
      "text/plain": [
       "0.7669025157232704"
      ]
     },
     "execution_count": 176,
     "metadata": {},
     "output_type": "execute_result"
    }
   ],
   "source": [
    "roc_auc_score(y_test, random_search.best_estimator_.predict_proba(X_test)[:, 1])"
   ]
  },
  {
   "cell_type": "markdown",
   "metadata": {
    "heading_collapsed": true,
    "hidden": true
   },
   "source": [
    "## RF"
   ]
  },
  {
   "cell_type": "code",
   "execution_count": 177,
   "metadata": {
    "ExecuteTime": {
     "end_time": "2020-05-07T20:18:01.147978Z",
     "start_time": "2020-05-07T20:18:01.144969Z"
    },
    "hidden": true
   },
   "outputs": [],
   "source": [
    "from sklearn.ensemble import RandomForestClassifier"
   ]
  },
  {
   "cell_type": "code",
   "execution_count": 200,
   "metadata": {
    "ExecuteTime": {
     "end_time": "2020-05-07T20:38:31.281379Z",
     "start_time": "2020-05-07T20:35:52.372761Z"
    },
    "hidden": true
   },
   "outputs": [
    {
     "name": "stdout",
     "output_type": "stream",
     "text": [
      "Fitting 15 folds for each of 1000 candidates, totalling 15000 fits\n"
     ]
    },
    {
     "name": "stderr",
     "output_type": "stream",
     "text": [
      "[Parallel(n_jobs=-1)]: Using backend LokyBackend with 6 concurrent workers.\n",
      "[Parallel(n_jobs=-1)]: Done  92 tasks      | elapsed:    1.0s\n",
      "[Parallel(n_jobs=-1)]: Done 692 tasks      | elapsed:    8.0s\n",
      "[Parallel(n_jobs=-1)]: Done 1692 tasks      | elapsed:   19.3s\n",
      "[Parallel(n_jobs=-1)]: Done 3092 tasks      | elapsed:   35.5s\n",
      "[Parallel(n_jobs=-1)]: Done 4892 tasks      | elapsed:   54.5s\n",
      "[Parallel(n_jobs=-1)]: Done 7092 tasks      | elapsed:  1.3min\n",
      "[Parallel(n_jobs=-1)]: Done 9692 tasks      | elapsed:  1.8min\n",
      "[Parallel(n_jobs=-1)]: Done 12692 tasks      | elapsed:  2.3min\n",
      "[Parallel(n_jobs=-1)]: Done 15000 out of 15000 | elapsed:  2.6min finished\n"
     ]
    },
    {
     "data": {
      "text/plain": [
       "RandomizedSearchCV(cv=KFold(n_splits=15, random_state=None, shuffle=True),\n",
       "                   error_score=nan,\n",
       "                   estimator=Pipeline(memory=None,\n",
       "                                      steps=[('dataprep',\n",
       "                                              ColumnTransformer(n_jobs=None,\n",
       "                                                                remainder='drop',\n",
       "                                                                sparse_threshold=0.3,\n",
       "                                                                transformer_weights=None,\n",
       "                                                                transformers=[('numerical_transform',\n",
       "                                                                               Pipeline(memory=None,\n",
       "                                                                                        steps=[('missing',\n",
       "                                                                                                SimpleImputer(add_indicator=False,\n",
       "                                                                                                              copy=True...\n",
       "                                        'model__max_features': <scipy.stats._distn_infrastructure.rv_frozen object at 0x000001AE7E561F28>,\n",
       "                                        'model__min_samples_split': <scipy.stats._distn_infrastructure.rv_frozen object at 0x000001AE7E5618D0>,\n",
       "                                        'model__n_estimators': <scipy.stats._distn_infrastructure.rv_frozen object at 0x000001AE7E561BA8>},\n",
       "                   pre_dispatch='2*n_jobs', random_state=None, refit=True,\n",
       "                   return_train_score=False, scoring='roc_auc', verbose=True)"
      ]
     },
     "execution_count": 200,
     "metadata": {},
     "output_type": "execute_result"
    }
   ],
   "source": [
    "from lightgbm import LGBMClassifier\n",
    "from sklearn.compose import ColumnTransformer\n",
    "\n",
    "categorical_imputer = SimpleImputer(strategy='most_frequent')\n",
    "ordinal_encoder = OneHotEncoder(drop='first', handle_unknown='error')\n",
    "\n",
    "numerical_imputer = SimpleImputer()\n",
    "scaler = StandardScaler()\n",
    "\n",
    "categorical_pipeline = Pipeline(steps=[('missing', categorical_imputer),\n",
    "                                       ('encode', ordinal_encoder)])\n",
    "\n",
    "numerical_pipeline = Pipeline(steps=[('missing', numerical_imputer),\n",
    "                                     ('standardize', scaler)])\n",
    "cat_columns = list(X_train.select_dtypes('object').columns)\n",
    "num_columns = list(X_train.select_dtypes(exclude='object').columns)\n",
    "dataprep = ColumnTransformer(transformers=[('numerical_transform', numerical_pipeline, num_columns),\n",
    "                                           ('categ_transform', categorical_pipeline, cat_columns)])\n",
    "\n",
    "\n",
    "\n",
    "pipeline = Pipeline(steps=[('dataprep', dataprep),\n",
    "                           ('model', RandomForestClassifier())])\n",
    "\n",
    "\n",
    "# specify parameters and distributions to sample from\n",
    "\n",
    "param_dist = {'model__criterion': ['gini','entropy'],\n",
    "              'model__min_samples_split': randint(2,100),\n",
    "              'model__max_depth': randint(1,3),\n",
    "              'model__n_estimators': randint(10,50),\n",
    "              'model__max_features': beta(2, 1, loc=0, scale=1),\n",
    "              'model__ccp_alpha': gamma(.5, loc=0, scale=0.5)\n",
    "             }\n",
    "\n",
    "n_iter_search = 1000\n",
    "random_search = RandomizedSearchCV(pipeline, \n",
    "                                   param_distributions=param_dist,\n",
    "                                   n_iter=n_iter_search, verbose=True, \n",
    "                                   cv=KFold(n_splits=15, shuffle=True),\n",
    "                                   scoring='roc_auc',\n",
    "                                   n_jobs=-1)\n",
    "\n",
    "random_search.fit(X_train, y_train)"
   ]
  },
  {
   "cell_type": "code",
   "execution_count": 208,
   "metadata": {
    "ExecuteTime": {
     "end_time": "2020-05-07T20:59:46.314078Z",
     "start_time": "2020-05-07T20:59:46.309092Z"
    },
    "hidden": true
   },
   "outputs": [
    {
     "data": {
      "text/plain": [
       "(array([ 36, 119, 202, 285, 368]),\n",
       " array([[0.77777778, 0.77777778, 0.75      , 0.75      , 0.80555556],\n",
       "        [0.78991597, 0.79831933, 0.78991597, 0.81512605, 0.78991597],\n",
       "        [0.81683168, 0.8019802 , 0.81188119, 0.83663366, 0.81683168],\n",
       "        [0.81403509, 0.79649123, 0.8       , 0.81754386, 0.81052632],\n",
       "        [0.81521739, 0.79347826, 0.79891304, 0.8125    , 0.80706522]]),\n",
       " array([[0.59782609, 0.75      , 0.68478261, 0.68478261, 0.7173913 ],\n",
       "        [0.76086957, 0.84782609, 0.82608696, 0.79347826, 0.79347826],\n",
       "        [0.76086957, 0.84782609, 0.82608696, 0.79347826, 0.79347826],\n",
       "        [0.76086957, 0.84782609, 0.82608696, 0.79347826, 0.79347826],\n",
       "        [0.76086957, 0.84782609, 0.82608696, 0.79347826, 0.79347826]]))"
      ]
     },
     "execution_count": 208,
     "metadata": {},
     "output_type": "execute_result"
    }
   ],
   "source": [
    "curves"
   ]
  },
  {
   "cell_type": "code",
   "execution_count": 214,
   "metadata": {
    "ExecuteTime": {
     "end_time": "2020-05-07T21:02:09.789525Z",
     "start_time": "2020-05-07T21:02:09.785535Z"
    },
    "hidden": true
   },
   "outputs": [
    {
     "data": {
      "text/plain": [
       "(array([ 36, 119, 202, 285, 368]),\n",
       " array([[0.69444444, 0.77777778, 0.77777778, 0.72222222, 0.77777778],\n",
       "        [0.80672269, 0.78991597, 0.77310924, 0.83193277, 0.78991597],\n",
       "        [0.82178218, 0.81683168, 0.81188119, 0.84158416, 0.7970297 ],\n",
       "        [0.81052632, 0.8       , 0.81403509, 0.82105263, 0.79649123],\n",
       "        [0.81793478, 0.79347826, 0.80163043, 0.81521739, 0.79891304]]),\n",
       " array([[0.66304348, 0.69565217, 0.66304348, 0.68478261, 0.72826087],\n",
       "        [0.77173913, 0.84782609, 0.81521739, 0.76086957, 0.82608696],\n",
       "        [0.77173913, 0.84782609, 0.81521739, 0.76086957, 0.82608696],\n",
       "        [0.77173913, 0.84782609, 0.81521739, 0.76086957, 0.82608696],\n",
       "        [0.77173913, 0.84782609, 0.81521739, 0.76086957, 0.82608696]]))"
      ]
     },
     "execution_count": 214,
     "metadata": {},
     "output_type": "execute_result"
    }
   ],
   "source": [
    "curves"
   ]
  },
  {
   "cell_type": "code",
   "execution_count": null,
   "metadata": {
    "hidden": true
   },
   "outputs": [],
   "source": []
  },
  {
   "cell_type": "code",
   "execution_count": 212,
   "metadata": {
    "ExecuteTime": {
     "end_time": "2020-05-07T21:01:00.319704Z",
     "start_time": "2020-05-07T21:00:58.949328Z"
    },
    "hidden": true
   },
   "outputs": [
    {
     "data": {
      "text/plain": [
       "<matplotlib.legend.Legend at 0x1ae7e13e1d0>"
      ]
     },
     "execution_count": 212,
     "metadata": {},
     "output_type": "execute_result"
    },
    {
     "data": {
      "image/png": "[encoded data removed]",
      "text/plain": [
       "<Figure size 576x396 with 1 Axes>"
      ]
     },
     "metadata": {},
     "output_type": "display_data"
    }
   ],
   "source": [
    "curves = learning_curve(random_search.best_estimator_, \n",
    "                        X_train, \n",
    "                        y_train, \n",
    "                        cv=KFold(n_splits=5, shuffle=True, random_state=42))\n",
    "\n",
    "train_sizes = curves[0]\n",
    "train_scores = curves[1]\n",
    "test_scores = curves[2]\n",
    "plt.plot(train_sizes, train_scores.mean(axis=1), '-o', label='Training AUC')\n",
    "plt.plot(train_sizes, test_scores.mean(axis=1), '-o', label='Testing AUC')\n",
    "plt.grid()\n",
    "plt.legend()"
   ]
  },
  {
   "cell_type": "code",
   "execution_count": 218,
   "metadata": {
    "ExecuteTime": {
     "end_time": "2020-05-07T21:04:38.193463Z",
     "start_time": "2020-05-07T21:04:37.714673Z"
    },
    "hidden": true
   },
   "outputs": [
    {
     "name": "stderr",
     "output_type": "stream",
     "text": [
      "c:\\programas\\anaconda3\\lib\\site-packages\\sklearn\\base.py:197: FutureWarning: From version 0.24, get_params will raise an AttributeError if a parameter cannot be retrieved as an instance attribute. Previously it would return None.\n",
      "  FutureWarning)\n"
     ]
    },
    {
     "data": {
      "image/png": "[encoded data removed]",
      "text/plain": [
       "<Figure size 576x396 with 1 Axes>"
      ]
     },
     "metadata": {},
     "output_type": "display_data"
    },
    {
     "data": {
      "text/plain": [
       "<matplotlib.axes._subplots.AxesSubplot at 0x1ae7d81d860>"
      ]
     },
     "execution_count": 218,
     "metadata": {},
     "output_type": "execute_result"
    }
   ],
   "source": [
    "from yellowbrick.model_selection import LearningCurve\n",
    "\n",
    "sizes = [0.1  , 0.325, 0.55 , 0.775, 1.   ]\n",
    "\n",
    "# Instantiate the classification model and visualizer\n",
    "\n",
    "visualizer = LearningCurve(\n",
    "    random_search.best_estimator_, \n",
    "    cv=KFold(5, shuffle=True, random_state=42), \n",
    "    scoring='roc_auc', \n",
    "    train_sizes=sizes, \n",
    "    n_jobs=6\n",
    ")\n",
    "\n",
    "visualizer.fit(X_train, y_train)        # Fit the data to the visualizer\n",
    "visualizer.show()           # Finalize and render the figure"
   ]
  },
  {
   "cell_type": "code",
   "execution_count": 203,
   "metadata": {
    "ExecuteTime": {
     "end_time": "2020-05-07T20:56:29.825223Z",
     "start_time": "2020-05-07T20:56:29.812230Z"
    },
    "hidden": true
   },
   "outputs": [
    {
     "data": {
      "text/plain": [
       "0.7521619496855345"
      ]
     },
     "execution_count": 203,
     "metadata": {},
     "output_type": "execute_result"
    }
   ],
   "source": [
    "roc_auc_score(y_test, random_search.best_estimator_.predict_proba(X_test)[:, 1])"
   ]
  }
 ],
 "metadata": {
  "kernelspec": {
   "display_name": "Python 3",
   "language": "python",
   "name": "python3"
  },
  "language_info": {
   "codemirror_mode": {
    "name": "ipython",
    "version": 3
   },
   "file_extension": ".py",
   "mimetype": "text/x-python",
   "name": "python",
   "nbconvert_exporter": "python",
   "pygments_lexer": "ipython3",
   "version": "3.8.5"
  },
  "toc": {
   "base_numbering": 1,
   "nav_menu": {},
   "number_sections": true,
   "sideBar": true,
   "skip_h1_title": false,
   "title_cell": "Table of Contents",
   "title_sidebar": "Contents",
   "toc_cell": false,
   "toc_position": {},
   "toc_section_display": true,
   "toc_window_display": false
  },
  "varInspector": {
   "cols": {
    "lenName": 16,
    "lenType": 16,
    "lenVar": 40
   },
   "kernels_config": {
    "python": {
     "delete_cmd_postfix": "",
     "delete_cmd_prefix": "del ",
     "library": "var_list.py",
     "varRefreshCmd": "print(var_dic_list())"
    },
    "r": {
     "delete_cmd_postfix": ") ",
     "delete_cmd_prefix": "rm(",
     "library": "var_list.r",
     "varRefreshCmd": "cat(var_dic_list()) "
    }
   },
   "types_to_exclude": [
    "module",
    "function",
    "builtin_function_or_method",
    "instance",
    "_Feature"
   ],
   "window_display": false
  }
 },
 "nbformat": 4,
 "nbformat_minor": 2
}
