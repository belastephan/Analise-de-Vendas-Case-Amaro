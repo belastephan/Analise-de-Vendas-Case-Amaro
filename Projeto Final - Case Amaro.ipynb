{
 "cells": [
  {
   "cell_type": "markdown",
   "id": "530ddc15",
   "metadata": {},
   "source": [
    "# Leitura de .csv"
   ]
  },
  {
   "cell_type": "code",
   "execution_count": 2,
   "id": "e02ffdd0",
   "metadata": {
    "ExecuteTime": {
     "end_time": "2021-10-02T19:21:27.622219Z",
     "start_time": "2021-10-02T19:21:22.882678Z"
    }
   },
   "outputs": [],
   "source": [
    "import pandas as pd\n",
    "import sqlite3"
   ]
  },
  {
   "cell_type": "code",
   "execution_count": 3,
   "id": "daf83206",
   "metadata": {
    "ExecuteTime": {
     "end_time": "2021-10-02T19:21:28.589008Z",
     "start_time": "2021-10-02T19:21:28.582026Z"
    }
   },
   "outputs": [],
   "source": [
    "def creator(path, table_name):\n",
    "    con = sqlite3.connect(path)\n",
    "    return pd.read_sql(f'select * from {table_name}', con).replace('', pd.NA)"
   ]
  },
  {
   "cell_type": "code",
   "execution_count": 4,
   "id": "30d7a69d",
   "metadata": {
    "ExecuteTime": {
     "end_time": "2021-10-02T19:21:37.193452Z",
     "start_time": "2021-10-02T19:21:31.664622Z"
    }
   },
   "outputs": [],
   "source": [
    "custmr = creator('C:/Users/Isabela/Desktop/Ironhack/Projeto/Projeto Final - Case Amaro/Customers.db', 'customers')\n",
    "oitems = creator('C:/Users/Isabela/Desktop/Ironhack/Projeto/Projeto Final - Case Amaro/OrderItems.db', 'orderitems')\n",
    "orders = creator('C:/Users/Isabela/Desktop/Ironhack/Projeto/Projeto Final - Case Amaro/Orders.db', 'orders')\n",
    "prdcts = creator('C:/Users/Isabela/Desktop/Ironhack/Projeto/Projeto Final - Case Amaro/Products.db', 'products')"
   ]
  },
  {
   "cell_type": "code",
   "execution_count": 5,
   "id": "e21d3b90",
   "metadata": {
    "ExecuteTime": {
     "end_time": "2021-10-02T19:21:38.930519Z",
     "start_time": "2021-10-02T19:21:37.558620Z"
    }
   },
   "outputs": [],
   "source": [
    "custmr.to_csv('Customers.csv', index=False)\n",
    "oitems.to_csv('OrderItems.csv', index=False)\n",
    "orders.to_csv('Orders.csv', index=False)\n",
    "prdcts.to_csv('Products.csv', index=False)"
   ]
  },
  {
   "cell_type": "code",
   "execution_count": 6,
   "id": "3f9799c7",
   "metadata": {
    "ExecuteTime": {
     "end_time": "2021-10-02T19:21:42.830190Z",
     "start_time": "2021-10-02T19:21:42.761371Z"
    }
   },
   "outputs": [
    {
     "data": {
      "text/html": [
       "<div>\n",
       "<style scoped>\n",
       "    .dataframe tbody tr th:only-of-type {\n",
       "        vertical-align: middle;\n",
       "    }\n",
       "\n",
       "    .dataframe tbody tr th {\n",
       "        vertical-align: top;\n",
       "    }\n",
       "\n",
       "    .dataframe thead th {\n",
       "        text-align: right;\n",
       "    }\n",
       "</style>\n",
       "<table border=\"1\" class=\"dataframe\">\n",
       "  <thead>\n",
       "    <tr style=\"text-align: right;\">\n",
       "      <th></th>\n",
       "      <th>user_id</th>\n",
       "      <th>account_created_date</th>\n",
       "      <th>age</th>\n",
       "      <th>gender</th>\n",
       "      <th>signup_channel</th>\n",
       "      <th>signup_device_type</th>\n",
       "      <th>signup_ip_address</th>\n",
       "      <th>signup_store_id</th>\n",
       "      <th>shipping_address_country</th>\n",
       "      <th>shipping_address_state</th>\n",
       "      <th>...</th>\n",
       "      <th>shipping_address_zip</th>\n",
       "      <th>birthdate_date</th>\n",
       "      <th>first_shipped_order_device_type</th>\n",
       "      <th>first_shipped_order_order_channel_code_online</th>\n",
       "      <th>first_shipped_order_order_retail_type_level_2</th>\n",
       "      <th>first_shipped_order_date</th>\n",
       "      <th>first_placed_order_date</th>\n",
       "      <th>first_placed_order_device_type</th>\n",
       "      <th>first_placed_order_order_channel_code_online</th>\n",
       "      <th>first_placed_order_order_retail_type_level_2</th>\n",
       "    </tr>\n",
       "  </thead>\n",
       "  <tbody>\n",
       "    <tr>\n",
       "      <th>0</th>\n",
       "      <td>89256</td>\n",
       "      <td>&lt;NA&gt;</td>\n",
       "      <td>35</td>\n",
       "      <td>&lt;NA&gt;</td>\n",
       "      <td>&lt;NA&gt;</td>\n",
       "      <td>&lt;NA&gt;</td>\n",
       "      <td>&lt;NA&gt;</td>\n",
       "      <td>0</td>\n",
       "      <td>Brasil</td>\n",
       "      <td>SP</td>\n",
       "      <td>...</td>\n",
       "      <td>01535000</td>\n",
       "      <td>1983-05-28</td>\n",
       "      <td>desktop</td>\n",
       "      <td>WEB</td>\n",
       "      <td>Online</td>\n",
       "      <td>2016-03-06</td>\n",
       "      <td>2016-03-06</td>\n",
       "      <td>desktop</td>\n",
       "      <td>WEB</td>\n",
       "      <td>Online</td>\n",
       "    </tr>\n",
       "    <tr>\n",
       "      <th>1</th>\n",
       "      <td>88350</td>\n",
       "      <td>&lt;NA&gt;</td>\n",
       "      <td>44</td>\n",
       "      <td>&lt;NA&gt;</td>\n",
       "      <td>&lt;NA&gt;</td>\n",
       "      <td>&lt;NA&gt;</td>\n",
       "      <td>&lt;NA&gt;</td>\n",
       "      <td>0</td>\n",
       "      <td>Brasil</td>\n",
       "      <td>SP</td>\n",
       "      <td>...</td>\n",
       "      <td>18080709</td>\n",
       "      <td>1974-09-10</td>\n",
       "      <td>&lt;NA&gt;</td>\n",
       "      <td>WEB</td>\n",
       "      <td>Online</td>\n",
       "      <td>2015-09-06</td>\n",
       "      <td>2015-09-06</td>\n",
       "      <td>&lt;NA&gt;</td>\n",
       "      <td>WEB</td>\n",
       "      <td>Online</td>\n",
       "    </tr>\n",
       "    <tr>\n",
       "      <th>2</th>\n",
       "      <td>89688</td>\n",
       "      <td>&lt;NA&gt;</td>\n",
       "      <td>57</td>\n",
       "      <td>&lt;NA&gt;</td>\n",
       "      <td>&lt;NA&gt;</td>\n",
       "      <td>&lt;NA&gt;</td>\n",
       "      <td>&lt;NA&gt;</td>\n",
       "      <td>0</td>\n",
       "      <td>Brasil</td>\n",
       "      <td>RS</td>\n",
       "      <td>...</td>\n",
       "      <td>98995000</td>\n",
       "      <td>1961-12-28</td>\n",
       "      <td>desktop</td>\n",
       "      <td>WEB</td>\n",
       "      <td>Online</td>\n",
       "      <td>2016-06-23</td>\n",
       "      <td>2016-06-23</td>\n",
       "      <td>desktop</td>\n",
       "      <td>WEB</td>\n",
       "      <td>Online</td>\n",
       "    </tr>\n",
       "    <tr>\n",
       "      <th>3</th>\n",
       "      <td>90364</td>\n",
       "      <td>&lt;NA&gt;</td>\n",
       "      <td>61</td>\n",
       "      <td>&lt;NA&gt;</td>\n",
       "      <td>&lt;NA&gt;</td>\n",
       "      <td>&lt;NA&gt;</td>\n",
       "      <td>&lt;NA&gt;</td>\n",
       "      <td>0</td>\n",
       "      <td>Brasil</td>\n",
       "      <td>SP</td>\n",
       "      <td>...</td>\n",
       "      <td>16050640</td>\n",
       "      <td>1958-01-22</td>\n",
       "      <td>desktop</td>\n",
       "      <td>WEB</td>\n",
       "      <td>Online</td>\n",
       "      <td>2016-03-11</td>\n",
       "      <td>2016-03-11</td>\n",
       "      <td>desktop</td>\n",
       "      <td>WEB</td>\n",
       "      <td>Online</td>\n",
       "    </tr>\n",
       "    <tr>\n",
       "      <th>4</th>\n",
       "      <td>127080</td>\n",
       "      <td>&lt;NA&gt;</td>\n",
       "      <td>34</td>\n",
       "      <td>F</td>\n",
       "      <td>&lt;NA&gt;</td>\n",
       "      <td>&lt;NA&gt;</td>\n",
       "      <td>&lt;NA&gt;</td>\n",
       "      <td>0</td>\n",
       "      <td>Brasil</td>\n",
       "      <td>SP</td>\n",
       "      <td>...</td>\n",
       "      <td>04542001</td>\n",
       "      <td>1984-11-22</td>\n",
       "      <td>desktop</td>\n",
       "      <td>WEB</td>\n",
       "      <td>Online</td>\n",
       "      <td>2015-12-04</td>\n",
       "      <td>2013-07-18</td>\n",
       "      <td>&lt;NA&gt;</td>\n",
       "      <td>-</td>\n",
       "      <td>Online</td>\n",
       "    </tr>\n",
       "  </tbody>\n",
       "</table>\n",
       "<p>5 rows × 21 columns</p>\n",
       "</div>"
      ],
      "text/plain": [
       "  user_id account_created_date age gender signup_channel signup_device_type  \\\n",
       "0   89256                 <NA>  35   <NA>           <NA>               <NA>   \n",
       "1   88350                 <NA>  44   <NA>           <NA>               <NA>   \n",
       "2   89688                 <NA>  57   <NA>           <NA>               <NA>   \n",
       "3   90364                 <NA>  61   <NA>           <NA>               <NA>   \n",
       "4  127080                 <NA>  34      F           <NA>               <NA>   \n",
       "\n",
       "  signup_ip_address signup_store_id shipping_address_country  \\\n",
       "0              <NA>               0                   Brasil   \n",
       "1              <NA>               0                   Brasil   \n",
       "2              <NA>               0                   Brasil   \n",
       "3              <NA>               0                   Brasil   \n",
       "4              <NA>               0                   Brasil   \n",
       "\n",
       "  shipping_address_state  ... shipping_address_zip birthdate_date  \\\n",
       "0                     SP  ...             01535000     1983-05-28   \n",
       "1                     SP  ...             18080709     1974-09-10   \n",
       "2                     RS  ...             98995000     1961-12-28   \n",
       "3                     SP  ...             16050640     1958-01-22   \n",
       "4                     SP  ...             04542001     1984-11-22   \n",
       "\n",
       "  first_shipped_order_device_type  \\\n",
       "0                         desktop   \n",
       "1                            <NA>   \n",
       "2                         desktop   \n",
       "3                         desktop   \n",
       "4                         desktop   \n",
       "\n",
       "  first_shipped_order_order_channel_code_online  \\\n",
       "0                                           WEB   \n",
       "1                                           WEB   \n",
       "2                                           WEB   \n",
       "3                                           WEB   \n",
       "4                                           WEB   \n",
       "\n",
       "  first_shipped_order_order_retail_type_level_2 first_shipped_order_date  \\\n",
       "0                                        Online               2016-03-06   \n",
       "1                                        Online               2015-09-06   \n",
       "2                                        Online               2016-06-23   \n",
       "3                                        Online               2016-03-11   \n",
       "4                                        Online               2015-12-04   \n",
       "\n",
       "  first_placed_order_date first_placed_order_device_type  \\\n",
       "0              2016-03-06                        desktop   \n",
       "1              2015-09-06                           <NA>   \n",
       "2              2016-06-23                        desktop   \n",
       "3              2016-03-11                        desktop   \n",
       "4              2013-07-18                           <NA>   \n",
       "\n",
       "  first_placed_order_order_channel_code_online  \\\n",
       "0                                          WEB   \n",
       "1                                          WEB   \n",
       "2                                          WEB   \n",
       "3                                          WEB   \n",
       "4                                            -   \n",
       "\n",
       "  first_placed_order_order_retail_type_level_2  \n",
       "0                                       Online  \n",
       "1                                       Online  \n",
       "2                                       Online  \n",
       "3                                       Online  \n",
       "4                                       Online  \n",
       "\n",
       "[5 rows x 21 columns]"
      ]
     },
     "execution_count": 6,
     "metadata": {},
     "output_type": "execute_result"
    }
   ],
   "source": [
    "custmr.head()"
   ]
  },
  {
   "cell_type": "code",
   "execution_count": null,
   "id": "0b14c648",
   "metadata": {},
   "outputs": [],
   "source": []
  }
 ],
 "metadata": {
  "kernelspec": {
   "display_name": "Python 3",
   "language": "python",
   "name": "python3"
  },
  "language_info": {
   "codemirror_mode": {
    "name": "ipython",
    "version": 3
   },
   "file_extension": ".py",
   "mimetype": "text/x-python",
   "name": "python",
   "nbconvert_exporter": "python",
   "pygments_lexer": "ipython3",
   "version": "3.8.8"
  },
  "toc": {
   "base_numbering": 1,
   "nav_menu": {},
   "number_sections": true,
   "sideBar": true,
   "skip_h1_title": false,
   "title_cell": "Table of Contents",
   "title_sidebar": "Contents",
   "toc_cell": false,
   "toc_position": {},
   "toc_section_display": true,
   "toc_window_display": false
  },
  "varInspector": {
   "cols": {
    "lenName": 16,
    "lenType": 16,
    "lenVar": 40
   },
   "kernels_config": {
    "python": {
     "delete_cmd_postfix": "",
     "delete_cmd_prefix": "del ",
     "library": "var_list.py",
     "varRefreshCmd": "print(var_dic_list())"
    },
    "r": {
     "delete_cmd_postfix": ") ",
     "delete_cmd_prefix": "rm(",
     "library": "var_list.r",
     "varRefreshCmd": "cat(var_dic_list()) "
    }
   },
   "types_to_exclude": [
    "module",
    "function",
    "builtin_function_or_method",
    "instance",
    "_Feature"
   ],
   "window_display": false
  }
 },
 "nbformat": 4,
 "nbformat_minor": 5
}
